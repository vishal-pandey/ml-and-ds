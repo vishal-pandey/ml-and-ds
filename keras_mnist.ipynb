{
  "nbformat": 4,
  "nbformat_minor": 0,
  "metadata": {
    "colab": {
      "name": "keras_mnist.ipynb",
      "provenance": []
    },
    "kernelspec": {
      "name": "python3",
      "display_name": "Python 3"
    }
  },
  "cells": [
    {
      "cell_type": "code",
      "metadata": {
        "id": "TxooQpekllcB",
        "colab_type": "code",
        "colab": {}
      },
      "source": [
        "from __future__ import absolute_import, division, print_function, unicode_literals"
      ],
      "execution_count": 0,
      "outputs": []
    },
    {
      "cell_type": "code",
      "metadata": {
        "id": "LiBIrCPm1JK9",
        "colab_type": "code",
        "colab": {}
      },
      "source": [
        "import tensorflow as tf\n",
        "from tensorflow import keras\n",
        "from tensorflow.keras import layers\n",
        "import numpy as np"
      ],
      "execution_count": 0,
      "outputs": []
    },
    {
      "cell_type": "code",
      "metadata": {
        "id": "Vv2Ik_sw1YfC",
        "colab_type": "code",
        "colab": {}
      },
      "source": [
        "model = tf.keras.Sequential()\n",
        "model.add(layers.Dense(64, activation='relu'))\n",
        "model.add(layers.Dense(64, activation='relu'))\n",
        "model.add(layers.Dense(10, activation='softmax', input_shape=(10,)))"
      ],
      "execution_count": 0,
      "outputs": []
    },
    {
      "cell_type": "code",
      "metadata": {
        "id": "QyoQdiDn1wPD",
        "colab_type": "code",
        "colab": {}
      },
      "source": [
        "model.compile(optimizer=tf.keras.optimizers.Adam(0.01), loss='categorical_crossentropy', metrics=['accuracy'])\n"
      ],
      "execution_count": 0,
      "outputs": []
    },
    {
      "cell_type": "code",
      "metadata": {
        "id": "SKh6BCVr2QQd",
        "colab_type": "code",
        "colab": {}
      },
      "source": [
        "data = tf.keras.datasets.mnist.load_data()"
      ],
      "execution_count": 0,
      "outputs": []
    },
    {
      "cell_type": "code",
      "metadata": {
        "id": "Joiqrpy62l1_",
        "colab_type": "code",
        "colab": {}
      },
      "source": [
        "X = data[0][0]\n",
        "y = data[0][1]"
      ],
      "execution_count": 0,
      "outputs": []
    },
    {
      "cell_type": "code",
      "metadata": {
        "id": "zG__LW7H3Sim",
        "colab_type": "code",
        "colab": {}
      },
      "source": [
        "X = X.reshape(X.shape[0], X.shape[1]*X.shape[2])/256"
      ],
      "execution_count": 0,
      "outputs": []
    },
    {
      "cell_type": "code",
      "metadata": {
        "id": "jAxAx2NeWBUy",
        "colab_type": "code",
        "colab": {}
      },
      "source": [
        ""
      ],
      "execution_count": 0,
      "outputs": []
    },
    {
      "cell_type": "code",
      "metadata": {
        "id": "Q09c25szSbJh",
        "colab_type": "code",
        "colab": {}
      },
      "source": [
        "y = y.reshape(y.shape[0], 1)"
      ],
      "execution_count": 0,
      "outputs": []
    },
    {
      "cell_type": "code",
      "metadata": {
        "id": "v0aEhvK2TTEi",
        "colab_type": "code",
        "colab": {
          "base_uri": "https://localhost:8080/",
          "height": 105
        },
        "outputId": "d8d65477-6fcf-454f-dc42-d10025a6da89"
      },
      "source": [
        "from sklearn.preprocessing import OneHotEncoder\n",
        "enc = OneHotEncoder()\n",
        "y = enc.fit_transform(y).toarray()"
      ],
      "execution_count": 28,
      "outputs": [
        {
          "output_type": "stream",
          "text": [
            "/usr/local/lib/python3.6/dist-packages/sklearn/preprocessing/_encoders.py:415: FutureWarning: The handling of integer data will change in version 0.22. Currently, the categories are determined based on the range [0, max(values)], while in the future they will be determined based on the unique values.\n",
            "If you want the future behaviour and silence this warning, you can specify \"categories='auto'\".\n",
            "In case you used a LabelEncoder before this OneHotEncoder to convert the categories to integers, then you can now use the OneHotEncoder directly.\n",
            "  warnings.warn(msg, FutureWarning)\n"
          ],
          "name": "stderr"
        }
      ]
    },
    {
      "cell_type": "code",
      "metadata": {
        "id": "SONIqccfTr3f",
        "colab_type": "code",
        "colab": {}
      },
      "source": [
        ""
      ],
      "execution_count": 0,
      "outputs": []
    },
    {
      "cell_type": "code",
      "metadata": {
        "id": "PKwu3ZjIYFKI",
        "colab_type": "code",
        "colab": {}
      },
      "source": [
        "from sklearn.model_selection import train_test_split\n",
        "X_train, X_test, y_train, y_test = train_test_split(X, y)"
      ],
      "execution_count": 0,
      "outputs": []
    },
    {
      "cell_type": "code",
      "metadata": {
        "id": "UQ7Pbx3i30Pz",
        "colab_type": "code",
        "outputId": "060ecb51-5761-4ed6-a976-b64374e8ab1d",
        "colab": {
          "base_uri": "https://localhost:8080/",
          "height": 391
        }
      },
      "source": [
        "model.fit(X_train, y_train, epochs=10, batch_size=32)"
      ],
      "execution_count": 30,
      "outputs": [
        {
          "output_type": "stream",
          "text": [
            "Train on 45000 samples\n",
            "Epoch 1/10\n",
            "45000/45000 [==============================] - 3s 70us/sample - loss: 0.2929 - acc: 0.9126\n",
            "Epoch 2/10\n",
            "45000/45000 [==============================] - 3s 68us/sample - loss: 0.2015 - acc: 0.9428\n",
            "Epoch 3/10\n",
            "45000/45000 [==============================] - 3s 67us/sample - loss: 0.1714 - acc: 0.9522\n",
            "Epoch 4/10\n",
            "45000/45000 [==============================] - 3s 68us/sample - loss: 0.1579 - acc: 0.9569\n",
            "Epoch 5/10\n",
            "45000/45000 [==============================] - 3s 67us/sample - loss: 0.1405 - acc: 0.9609\n",
            "Epoch 6/10\n",
            "45000/45000 [==============================] - 3s 67us/sample - loss: 0.1363 - acc: 0.9634\n",
            "Epoch 7/10\n",
            "45000/45000 [==============================] - 3s 67us/sample - loss: 0.1268 - acc: 0.9653\n",
            "Epoch 8/10\n",
            "45000/45000 [==============================] - 3s 67us/sample - loss: 0.1223 - acc: 0.9685\n",
            "Epoch 9/10\n",
            "45000/45000 [==============================] - 3s 68us/sample - loss: 0.1141 - acc: 0.9702\n",
            "Epoch 10/10\n",
            "45000/45000 [==============================] - 3s 67us/sample - loss: 0.1113 - acc: 0.9716\n"
          ],
          "name": "stdout"
        },
        {
          "output_type": "execute_result",
          "data": {
            "text/plain": [
              "<tensorflow.python.keras.callbacks.History at 0x7f44e32d03c8>"
            ]
          },
          "metadata": {
            "tags": []
          },
          "execution_count": 30
        }
      ]
    },
    {
      "cell_type": "code",
      "metadata": {
        "id": "dIsGzW6raQTm",
        "colab_type": "code",
        "colab": {
          "base_uri": "https://localhost:8080/",
          "height": 255
        },
        "outputId": "01c24231-74f7-4dd5-be04-94bd94a65613"
      },
      "source": [
        "model.summary()"
      ],
      "execution_count": 31,
      "outputs": [
        {
          "output_type": "stream",
          "text": [
            "Model: \"sequential_3\"\n",
            "_________________________________________________________________\n",
            "Layer (type)                 Output Shape              Param #   \n",
            "=================================================================\n",
            "dense_9 (Dense)              multiple                  50240     \n",
            "_________________________________________________________________\n",
            "dense_10 (Dense)             multiple                  4160      \n",
            "_________________________________________________________________\n",
            "dense_11 (Dense)             multiple                  650       \n",
            "=================================================================\n",
            "Total params: 55,050\n",
            "Trainable params: 55,050\n",
            "Non-trainable params: 0\n",
            "_________________________________________________________________\n"
          ],
          "name": "stdout"
        }
      ]
    },
    {
      "cell_type": "code",
      "metadata": {
        "id": "fuBzEAPqXfrX",
        "colab_type": "code",
        "colab": {
          "base_uri": "https://localhost:8080/",
          "height": 51
        },
        "outputId": "d1eaa186-46e2-4b0c-dd1c-75f7ce75a725"
      },
      "source": [
        "model.evaluate(x=X_test, y=y_test)"
      ],
      "execution_count": 13,
      "outputs": [
        {
          "output_type": "stream",
          "text": [
            "15000/15000 [==============================] - 0s 31us/sample - loss: 0.2301 - acc: 0.9519\n"
          ],
          "name": "stdout"
        },
        {
          "output_type": "execute_result",
          "data": {
            "text/plain": [
              "[0.2301091836789002, 0.9519333]"
            ]
          },
          "metadata": {
            "tags": []
          },
          "execution_count": 13
        }
      ]
    },
    {
      "cell_type": "code",
      "metadata": {
        "id": "b-KLYNmEX-6_",
        "colab_type": "code",
        "colab": {}
      },
      "source": [
        ""
      ],
      "execution_count": 0,
      "outputs": []
    }
  ]
}