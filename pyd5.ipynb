{
 "cells": [
  {
   "cell_type": "code",
   "execution_count": 39,
   "metadata": {},
   "outputs": [],
   "source": [
    "x = [10,20,30,40]\n",
    "y = ['vikas', 'anil', 'amit', 'arun']"
   ]
  },
  {
   "cell_type": "code",
   "execution_count": 40,
   "metadata": {},
   "outputs": [
    {
     "name": "stdout",
     "output_type": "stream",
     "text": [
      "Customer Id:  10 Customer Name: vikas \n",
      "Customer Id:  30 Customer Name: amit \n"
     ]
    }
   ],
   "source": [
    "for i in range(0, len(x), 2):\n",
    "    print(\"Customer Id: \", x[i], \"Customer Name:\", y[i], \"\")\n",
    "    "
   ]
  },
  {
   "cell_type": "code",
   "execution_count": 41,
   "metadata": {},
   "outputs": [],
   "source": [
    "for i in range(5, 1, 1):\n",
    "    print(i)\n"
   ]
  },
  {
   "cell_type": "code",
   "execution_count": 42,
   "metadata": {},
   "outputs": [
    {
     "name": "stdout",
     "output_type": "stream",
     "text": [
      "30\n",
      "50\n",
      "70\n"
     ]
    }
   ],
   "source": [
    "for i in range(len(x)-1):\n",
    "    print(x[i] + x[i+1])"
   ]
  },
  {
   "cell_type": "code",
   "execution_count": 43,
   "metadata": {},
   "outputs": [],
   "source": [
    "# for i in x:\n",
    "#     print(x[x.index(i)], y[x.index(i)])"
   ]
  },
  {
   "cell_type": "code",
   "execution_count": 48,
   "metadata": {},
   "outputs": [
    {
     "name": "stdout",
     "output_type": "stream",
     "text": [
      "10\n",
      "20\n",
      "30\n",
      "40\n",
      "3\n"
     ]
    }
   ],
   "source": [
    "for i in range(len(x)):\n",
    "    print(x[i])\n",
    "#     x.append(1)\n",
    "print(i)"
   ]
  },
  {
   "cell_type": "code",
   "execution_count": 49,
   "metadata": {},
   "outputs": [],
   "source": [
    "for i in range(5):\n",
    "    pass"
   ]
  },
  {
   "cell_type": "code",
   "execution_count": 50,
   "metadata": {},
   "outputs": [
    {
     "name": "stdout",
     "output_type": "stream",
     "text": [
      "4\n"
     ]
    }
   ],
   "source": [
    "print(i)"
   ]
  },
  {
   "cell_type": "code",
   "execution_count": 69,
   "metadata": {},
   "outputs": [
    {
     "name": "stdout",
     "output_type": "stream",
     "text": [
      "2024\n"
     ]
    }
   ],
   "source": [
    "result = 0\n",
    "for i in range(2,10):\n",
    "#     print(i**3)\n",
    "    result += i**3\n",
    "print(result)"
   ]
  },
  {
   "cell_type": "code",
   "execution_count": null,
   "metadata": {},
   "outputs": [],
   "source": []
  },
  {
   "cell_type": "code",
   "execution_count": 82,
   "metadata": {},
   "outputs": [
    {
     "name": "stdout",
     "output_type": "stream",
     "text": [
      "1899\n"
     ]
    }
   ],
   "source": [
    "# Continue\n",
    "\n",
    "result = 0\n",
    "for i in range(2,10):\n",
    "    if i == 5:\n",
    "        continue\n",
    "    result += i**3\n",
    "print(result)"
   ]
  },
  {
   "cell_type": "code",
   "execution_count": 83,
   "metadata": {},
   "outputs": [
    {
     "data": {
      "text/plain": [
       "125"
      ]
     },
     "execution_count": 83,
     "metadata": {},
     "output_type": "execute_result"
    }
   ],
   "source": [
    "2024 - 1899"
   ]
  },
  {
   "cell_type": "code",
   "execution_count": 87,
   "metadata": {},
   "outputs": [
    {
     "name": "stdout",
     "output_type": "stream",
     "text": [
      "2024\n"
     ]
    }
   ],
   "source": [
    "# Break\n",
    "\n",
    "result = 0\n",
    "for i in range(2,100):\n",
    "    if i == 10:\n",
    "        break\n",
    "    result += i**3\n",
    "print(result)"
   ]
  },
  {
   "cell_type": "code",
   "execution_count": null,
   "metadata": {},
   "outputs": [],
   "source": []
  },
  {
   "cell_type": "code",
   "execution_count": 91,
   "metadata": {},
   "outputs": [
    {
     "name": "stdout",
     "output_type": "stream",
     "text": [
      "Printing  2\n",
      "Printing  3\n",
      "Printing  4\n",
      "Printing  6\n",
      "Printing  7\n",
      "Printing  8\n",
      "Printing  9\n",
      "2024\n"
     ]
    }
   ],
   "source": [
    "# Pass\n",
    "\n",
    "result = 0\n",
    "for i in range(2,10):\n",
    "    if i == 5:\n",
    "        pass\n",
    "    else:\n",
    "        print(\"Printing \", i)\n",
    "    result += i**3\n",
    "print(result)"
   ]
  },
  {
   "cell_type": "code",
   "execution_count": 94,
   "metadata": {},
   "outputs": [
    {
     "name": "stdout",
     "output_type": "stream",
     "text": [
      "Hello 0\n",
      "Hello 1\n",
      "Hello 2\n",
      "Hello 3\n",
      "Hello 4\n"
     ]
    }
   ],
   "source": [
    "for i in range(5):\n",
    "    pass\n",
    "    print(\"Hello\", i)"
   ]
  },
  {
   "cell_type": "code",
   "execution_count": null,
   "metadata": {},
   "outputs": [],
   "source": []
  },
  {
   "cell_type": "code",
   "execution_count": 96,
   "metadata": {},
   "outputs": [],
   "source": [
    "# While Loop"
   ]
  },
  {
   "cell_type": "code",
   "execution_count": 109,
   "metadata": {},
   "outputs": [
    {
     "name": "stdout",
     "output_type": "stream",
     "text": [
      "0\n",
      "0.1\n",
      "0.2\n",
      "0.30000000000000004\n",
      "0.4\n",
      "0.5\n",
      "0.6\n",
      "0.7\n",
      "0.7999999999999999\n",
      "0.8999999999999999\n",
      "0.9999999999999999\n",
      "1.0999999999999999\n",
      "1.2\n",
      "1.3\n",
      "1.4000000000000001\n",
      "1.5000000000000002\n",
      "1.6000000000000003\n",
      "1.7000000000000004\n",
      "1.8000000000000005\n",
      "1.9000000000000006\n",
      "2.0000000000000004\n",
      "2.1000000000000005\n",
      "2.2000000000000006\n",
      "2.3000000000000007\n",
      "2.400000000000001\n",
      "2.500000000000001\n",
      "2.600000000000001\n",
      "2.700000000000001\n",
      "2.800000000000001\n",
      "2.9000000000000012\n",
      "3.0000000000000013\n",
      "3.1000000000000014\n",
      "3.2000000000000015\n",
      "3.3000000000000016\n",
      "3.4000000000000017\n",
      "3.5000000000000018\n",
      "3.600000000000002\n",
      "3.700000000000002\n",
      "3.800000000000002\n",
      "3.900000000000002\n"
     ]
    }
   ],
   "source": [
    "i=0\n",
    "while(i < 4):\n",
    "#     print(x[i], i)\n",
    "    print(i)\n",
    "    i += 0.1"
   ]
  },
  {
   "cell_type": "code",
   "execution_count": 107,
   "metadata": {},
   "outputs": [
    {
     "data": {
      "text/plain": [
       "[10, 20, 30, 40]"
      ]
     },
     "execution_count": 107,
     "metadata": {},
     "output_type": "execute_result"
    }
   ],
   "source": [
    "x"
   ]
  },
  {
   "cell_type": "code",
   "execution_count": 110,
   "metadata": {},
   "outputs": [
    {
     "name": "stdout",
     "output_type": "stream",
     "text": [
      "c\n",
      "e\n",
      "t\n",
      "p\n",
      "a\n"
     ]
    }
   ],
   "source": [
    "x = 'cetpa'\n",
    "i = 0\n",
    "while(i<5):\n",
    "    print(x[i])\n",
    "    i += 1"
   ]
  },
  {
   "cell_type": "code",
   "execution_count": 114,
   "metadata": {},
   "outputs": [],
   "source": [
    "m = 0\n",
    "# m = 1 or True, 4342, \"Any non zero value\"\n",
    "while(m):\n",
    "    print(\"Infinite\")"
   ]
  },
  {
   "cell_type": "code",
   "execution_count": 119,
   "metadata": {},
   "outputs": [
    {
     "name": "stdout",
     "output_type": "stream",
     "text": [
      "Enter a positive number-2\n",
      "Hello -2\n"
     ]
    }
   ],
   "source": [
    "# Do While\n",
    "m = int(input(\"Enter a positive number\"))\n",
    "while(1):\n",
    "    print(\"Hello\", m)\n",
    "    if(m<=0):\n",
    "        break\n",
    "    else:\n",
    "        m = m-1"
   ]
  },
  {
   "cell_type": "code",
   "execution_count": null,
   "metadata": {},
   "outputs": [],
   "source": []
  },
  {
   "cell_type": "code",
   "execution_count": 129,
   "metadata": {},
   "outputs": [
    {
     "name": "stdout",
     "output_type": "stream",
     "text": [
      "A -> 65\n",
      "B -> 66\n",
      "C -> 67\n",
      "D -> 68\n",
      "E -> 69\n",
      "F -> 70\n",
      "G -> 71\n",
      "H -> 72\n",
      "I -> 73\n",
      "J -> 74\n",
      "K -> 75\n",
      "L -> 76\n",
      "M -> 77\n",
      "N -> 78\n",
      "O -> 79\n",
      "P -> 80\n",
      "Q -> 81\n",
      "R -> 82\n",
      "S -> 83\n",
      "T -> 84\n",
      "U -> 85\n",
      "V -> 86\n",
      "W -> 87\n",
      "X -> 88\n",
      "Y -> 89\n",
      "Z -> 90\n",
      "[ -> 91\n",
      "\\ -> 92\n",
      "] -> 93\n",
      "^ -> 94\n",
      "_ -> 95\n",
      "` -> 96\n",
      "a -> 97\n",
      "b -> 98\n",
      "c -> 99\n",
      "d -> 100\n",
      "e -> 101\n",
      "f -> 102\n",
      "g -> 103\n",
      "h -> 104\n",
      "i -> 105\n",
      "j -> 106\n",
      "k -> 107\n",
      "l -> 108\n",
      "m -> 109\n",
      "n -> 110\n",
      "o -> 111\n",
      "p -> 112\n",
      "q -> 113\n",
      "r -> 114\n",
      "s -> 115\n",
      "t -> 116\n",
      "u -> 117\n",
      "v -> 118\n",
      "w -> 119\n",
      "x -> 120\n",
      "y -> 121\n",
      "z -> 122\n"
     ]
    }
   ],
   "source": [
    "for i in range(65, 123):\n",
    "    print(chr(i),\"->\",ord(chr(i)))"
   ]
  },
  {
   "cell_type": "code",
   "execution_count": 131,
   "metadata": {},
   "outputs": [
    {
     "name": "stdout",
     "output_type": "stream",
     "text": [
      "Enter your name in small lettervishal\n",
      "VISHAL\n"
     ]
    }
   ],
   "source": [
    "myStr = input(\"Enter your name in small letter\")\n",
    "newStr = \"\"\n",
    "for i in myStr:\n",
    "    newStr += i.capitalize()\n",
    "print(newStr)"
   ]
  },
  {
   "cell_type": "code",
   "execution_count": 145,
   "metadata": {},
   "outputs": [
    {
     "name": "stdout",
     "output_type": "stream",
     "text": [
      "Enter your name in small letter \tvishal\n",
      "VISHAL\n"
     ]
    }
   ],
   "source": [
    "myStr = input(\"Enter your name in small letter \\t\")\n",
    "newStr = \"\"\n",
    "for i in range(len(myStr)):\n",
    "    newStr += chr(ord(myStr[i])-32)\n",
    "print(newStr)"
   ]
  },
  {
   "cell_type": "code",
   "execution_count": 142,
   "metadata": {},
   "outputs": [
    {
     "name": "stdout",
     "output_type": "stream",
     "text": [
      "Enter your name in CAPITAL letter \tVISHAL\n",
      "vishal\n"
     ]
    }
   ],
   "source": [
    "myStr = input(\"Enter your name in CAPITAL letter \\t\")\n",
    "newStr = \"\"\n",
    "for i in range(len(myStr)):\n",
    "    newStr += chr(ord(myStr[i])+32)\n",
    "print(newStr)"
   ]
  },
  {
   "cell_type": "code",
   "execution_count": 180,
   "metadata": {},
   "outputs": [],
   "source": [
    "def upper(x):\n",
    "    myStr = x\n",
    "    newStr = \"\"\n",
    "    for i in range(len(myStr)):\n",
    "        if ord(myStr[i]) == ord(\" \"):\n",
    "            newStr += \" \"\n",
    "        elif(ord(myStr[i])>=97 and ord(myStr[i]) <=122):\n",
    "            newStr += chr(ord(myStr[i])-32)\n",
    "        else:\n",
    "            newStr += myStr[i]\n",
    "    return newStr"
   ]
  },
  {
   "cell_type": "code",
   "execution_count": 182,
   "metadata": {},
   "outputs": [
    {
     "data": {
      "text/plain": [
       "'VISHAL PANDEY'"
      ]
     },
     "execution_count": 182,
     "metadata": {},
     "output_type": "execute_result"
    }
   ],
   "source": [
    "upper(\"vishal Pandey\")"
   ]
  },
  {
   "cell_type": "code",
   "execution_count": 176,
   "metadata": {},
   "outputs": [
    {
     "data": {
      "text/plain": [
       "32"
      ]
     },
     "execution_count": 176,
     "metadata": {},
     "output_type": "execute_result"
    }
   ],
   "source": [
    "ord(' ')"
   ]
  },
  {
   "cell_type": "code",
   "execution_count": 185,
   "metadata": {},
   "outputs": [],
   "source": [
    "def lower(x):\n",
    "    myStr = x\n",
    "    newStr = \"\"\n",
    "    for i in range(len(myStr)):\n",
    "        if ord(myStr[i]) == ord(\" \"):\n",
    "            newStr += \" \"\n",
    "        elif(ord(myStr[i])>=65 and ord(myStr[i]) <=90):\n",
    "            newStr += chr(ord(myStr[i])+32)\n",
    "        else:\n",
    "            newStr += myStr[i]\n",
    "    return newStr"
   ]
  },
  {
   "cell_type": "code",
   "execution_count": 186,
   "metadata": {},
   "outputs": [
    {
     "data": {
      "text/plain": [
       "'vishal pandey'"
      ]
     },
     "execution_count": 186,
     "metadata": {},
     "output_type": "execute_result"
    }
   ],
   "source": [
    "lower(\"VISHAL Pandey\")"
   ]
  },
  {
   "cell_type": "code",
   "execution_count": 187,
   "metadata": {},
   "outputs": [],
   "source": [
    "def toggle(x):\n",
    "    myStr = x\n",
    "    newStr = \"\"\n",
    "    for i in range(len(myStr)):\n",
    "        if ord(myStr[i]) == ord(\" \"):\n",
    "            newStr += \" \"\n",
    "        elif(ord(myStr[i])>=65 and ord(myStr[i]) <=90):\n",
    "            newStr += chr(ord(myStr[i])+32)\n",
    "        elif(ord(myStr[i])>=97 and ord(myStr[i]) <=122):\n",
    "            newStr += chr(ord(myStr[i])-32)\n",
    "        else:\n",
    "            newStr += myStr[i]\n",
    "    return newStr"
   ]
  },
  {
   "cell_type": "code",
   "execution_count": 189,
   "metadata": {},
   "outputs": [
    {
     "data": {
      "text/plain": [
       "'vISHAl pANdEY'"
      ]
     },
     "execution_count": 189,
     "metadata": {},
     "output_type": "execute_result"
    }
   ],
   "source": [
    "toggle('VishaL PanDey')"
   ]
  },
  {
   "cell_type": "code",
   "execution_count": null,
   "metadata": {},
   "outputs": [],
   "source": []
  }
 ],
 "metadata": {
  "kernelspec": {
   "display_name": "Python 3",
   "language": "python",
   "name": "python3"
  },
  "language_info": {
   "codemirror_mode": {
    "name": "ipython",
    "version": 3
   },
   "file_extension": ".py",
   "mimetype": "text/x-python",
   "name": "python",
   "nbconvert_exporter": "python",
   "pygments_lexer": "ipython3",
   "version": "3.7.1"
  }
 },
 "nbformat": 4,
 "nbformat_minor": 2
}
