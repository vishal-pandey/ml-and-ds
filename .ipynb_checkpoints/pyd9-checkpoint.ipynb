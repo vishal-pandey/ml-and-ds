{
 "cells": [
  {
   "cell_type": "markdown",
   "metadata": {},
   "source": [
    "## CMS"
   ]
  },
  {
   "cell_type": "code",
   "execution_count": 4,
   "metadata": {},
   "outputs": [],
   "source": [
    "idlist = [1,2,3,4,5]\n",
    "namelist = [\"Vishal\", \"Ram\", \"Shyam\", \"Mohan\"]\n",
    "agelist = [\"10\", \"11\", \"12\", \"13\"]"
   ]
  },
  {
   "cell_type": "markdown",
   "metadata": {},
   "source": [
    "## BLL"
   ]
  },
  {
   "cell_type": "code",
   "execution_count": 13,
   "metadata": {},
   "outputs": [],
   "source": [
    "def addStudent(nid, name, age):\n",
    "    idlist.append(nid)\n",
    "    namelist.append(name)\n",
    "    agelist.append(age)\n",
    "    return True"
   ]
  },
  {
   "cell_type": "code",
   "execution_count": null,
   "metadata": {},
   "outputs": [],
   "source": []
  },
  {
   "cell_type": "code",
   "execution_count": null,
   "metadata": {},
   "outputs": [],
   "source": []
  },
  {
   "cell_type": "code",
   "execution_count": null,
   "metadata": {},
   "outputs": [],
   "source": []
  },
  {
   "cell_type": "code",
   "execution_count": null,
   "metadata": {},
   "outputs": [],
   "source": []
  },
  {
   "cell_type": "code",
   "execution_count": null,
   "metadata": {},
   "outputs": [],
   "source": []
  },
  {
   "cell_type": "code",
   "execution_count": null,
   "metadata": {},
   "outputs": [],
   "source": []
  },
  {
   "cell_type": "markdown",
   "metadata": {},
   "source": [
    "## Presentation layer"
   ]
  },
  {
   "cell_type": "code",
   "execution_count": null,
   "metadata": {},
   "outputs": [
    {
     "name": "stdout",
     "output_type": "stream",
     "text": [
      "Select 1- Add \n",
      " 2- Update \n",
      " 3- Delete \n",
      " 4- search \n",
      " 5- exit1\n",
      "Enter Id1\n",
      "Enter Namevishal\n",
      "Enter Age123\n",
      "Student added successfully\n"
     ]
    }
   ],
   "source": [
    "flag = True\n",
    "while(flag):\n",
    "#     print(\"Select 1- Add \\n 2- Update \\n 3- Delete \\n 4- search \\n 5- exit\");\n",
    "    ip = int(input(\"Select 1- Add \\n 2- Update \\n 3- Delete \\n 4- search \\n 5- exit\"))\n",
    "    if ip == 5:\n",
    "        break;\n",
    "    if ip == 1:\n",
    "        newId = input(\"Enter Id\")\n",
    "        newName = input(\"Enter Name\")\n",
    "        newAge = input(\"Enter Age\")\n",
    "        if addStudent(newId, newName, newAge):\n",
    "            print(\"\\n Student added successfully\")"
   ]
  },
  {
   "cell_type": "code",
   "execution_count": null,
   "metadata": {},
   "outputs": [],
   "source": []
  }
 ],
 "metadata": {
  "kernelspec": {
   "display_name": "Python 3",
   "language": "python",
   "name": "python3"
  },
  "language_info": {
   "codemirror_mode": {
    "name": "ipython",
    "version": 3
   },
   "file_extension": ".py",
   "mimetype": "text/x-python",
   "name": "python",
   "nbconvert_exporter": "python",
   "pygments_lexer": "ipython3",
   "version": "3.7.1"
  }
 },
 "nbformat": 4,
 "nbformat_minor": 2
}
