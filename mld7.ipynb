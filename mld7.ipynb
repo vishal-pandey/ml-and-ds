{
 "cells": [
  {
   "cell_type": "code",
   "execution_count": 133,
   "metadata": {},
   "outputs": [],
   "source": [
    "import numpy as np\n",
    "import pandas as pd\n",
    "import matplotlib.pyplot as plt"
   ]
  },
  {
   "cell_type": "code",
   "execution_count": null,
   "metadata": {},
   "outputs": [],
   "source": []
  },
  {
   "cell_type": "code",
   "execution_count": 134,
   "metadata": {},
   "outputs": [],
   "source": [
    "m = 100"
   ]
  },
  {
   "cell_type": "code",
   "execution_count": 135,
   "metadata": {},
   "outputs": [],
   "source": [
    "X = 6 * np.random.randn(m ,1) - 3"
   ]
  },
  {
   "cell_type": "code",
   "execution_count": 136,
   "metadata": {},
   "outputs": [],
   "source": [
    "y = 0.5 * X**2 + X + 2 + np.random.randn(m, 1)"
   ]
  },
  {
   "cell_type": "code",
   "execution_count": null,
   "metadata": {},
   "outputs": [],
   "source": []
  },
  {
   "cell_type": "code",
   "execution_count": 137,
   "metadata": {},
   "outputs": [
    {
     "data": {
      "image/png": "[encoded data removed]",
      "text/plain": [
       "<Figure size 432x288 with 1 Axes>"
      ]
     },
     "metadata": {
      "needs_background": "light"
     },
     "output_type": "display_data"
    }
   ],
   "source": [
    "plt.scatter(X, y)\n",
    "plt.show()"
   ]
  },
  {
   "cell_type": "code",
   "execution_count": 142,
   "metadata": {},
   "outputs": [
    {
     "data": {
      "image/png": "[encoded data removed]",
      "text/plain": [
       "<Figure size 432x288 with 1 Axes>"
      ]
     },
     "metadata": {
      "needs_background": "light"
     },
     "output_type": "display_data"
    }
   ],
   "source": [
    "plt.scatter(X, y)\n",
    "plt.axis([-5, 5, 0, 20])\n",
    "plt.show()"
   ]
  },
  {
   "cell_type": "code",
   "execution_count": null,
   "metadata": {},
   "outputs": [],
   "source": []
  },
  {
   "cell_type": "code",
   "execution_count": 121,
   "metadata": {},
   "outputs": [],
   "source": [
    "from sklearn.preprocessing import PolynomialFeatures"
   ]
  },
  {
   "cell_type": "code",
   "execution_count": 122,
   "metadata": {},
   "outputs": [],
   "source": [
    "poly = PolynomialFeatures(degree=2, include_bias=False)"
   ]
  },
  {
   "cell_type": "code",
   "execution_count": 123,
   "metadata": {},
   "outputs": [],
   "source": [
    "X_poly = poly.fit_transform(X)"
   ]
  },
  {
   "cell_type": "code",
   "execution_count": 124,
   "metadata": {},
   "outputs": [
    {
     "data": {
      "text/plain": [
       "array([[-1.57059912e+00,  2.46678160e+00],\n",
       "       [-1.04892644e+01,  1.10024668e+02],\n",
       "       [-8.53014514e+00,  7.27633761e+01],\n",
       "       [-3.85313711e+00,  1.48466656e+01],\n",
       "       [ 1.05526358e+00,  1.11358122e+00],\n",
       "       [-6.42001335e+00,  4.12165714e+01],\n",
       "       [ 4.77720369e-01,  2.28216751e-01],\n",
       "       [-3.06737689e+00,  9.40880101e+00],\n",
       "       [-2.06688661e+01,  4.27202024e+02],\n",
       "       [-4.50595787e+00,  2.03036563e+01],\n",
       "       [-1.74474228e+00,  3.04412561e+00],\n",
       "       [-9.82634459e+00,  9.65570480e+01],\n",
       "       [ 1.54453852e+00,  2.38559925e+00],\n",
       "       [-3.76908415e+00,  1.42059953e+01],\n",
       "       [-1.14793995e+01,  1.31776613e+02],\n",
       "       [ 3.76893850e-01,  1.42048974e-01],\n",
       "       [ 8.76580121e-01,  7.68392709e-01],\n",
       "       [ 1.56601457e+01,  2.45240162e+02],\n",
       "       [ 5.94287635e+00,  3.53177793e+01],\n",
       "       [-3.61954962e+00,  1.31011394e+01],\n",
       "       [-1.81613595e+00,  3.29834980e+00],\n",
       "       [-3.59070922e-02,  1.28931927e-03],\n",
       "       [-7.93625430e+00,  6.29841324e+01],\n",
       "       [-1.25764225e+01,  1.58166404e+02],\n",
       "       [-1.46756519e+01,  2.15374759e+02],\n",
       "       [ 1.28304510e+00,  1.64620474e+00],\n",
       "       [-2.47434344e+00,  6.12237546e+00],\n",
       "       [-4.32222130e+00,  1.86815970e+01],\n",
       "       [ 1.17390385e+00,  1.37805025e+00],\n",
       "       [ 8.10797103e-01,  6.57391943e-01],\n",
       "       [-6.92937528e+00,  4.80162418e+01],\n",
       "       [-9.41583149e+00,  8.86578827e+01],\n",
       "       [-1.28491474e+01,  1.65100590e+02],\n",
       "       [-6.78596542e+00,  4.60493267e+01],\n",
       "       [-5.77007811e+00,  3.32938014e+01],\n",
       "       [-4.62141929e+00,  2.13575163e+01],\n",
       "       [-1.34283507e+01,  1.80320603e+02],\n",
       "       [ 2.85185848e+00,  8.13309681e+00],\n",
       "       [-1.00851918e+01,  1.01711094e+02],\n",
       "       [-2.35177604e+00,  5.53085052e+00],\n",
       "       [ 2.55350787e-02,  6.52040246e-04],\n",
       "       [-5.67309459e+00,  3.21840022e+01],\n",
       "       [-8.97507017e+00,  8.05518846e+01],\n",
       "       [-1.06960229e+01,  1.14404906e+02],\n",
       "       [ 7.40367919e+00,  5.48144655e+01],\n",
       "       [-7.43909525e+00,  5.53401381e+01],\n",
       "       [ 9.48140305e-01,  8.98970038e-01],\n",
       "       [ 7.46934627e+00,  5.57911337e+01],\n",
       "       [-3.90845232e+00,  1.52759995e+01],\n",
       "       [-1.09238152e+01,  1.19329738e+02],\n",
       "       [-9.23918342e-01,  8.53625102e-01],\n",
       "       [ 3.85300885e+00,  1.48456772e+01],\n",
       "       [ 4.26065774e+00,  1.81532044e+01],\n",
       "       [-1.59057139e+00,  2.52991735e+00],\n",
       "       [-1.48172376e+00,  2.19550530e+00],\n",
       "       [-1.71282608e+01,  2.93377317e+02],\n",
       "       [ 7.69263223e-02,  5.91765907e-03],\n",
       "       [-7.38881211e+00,  5.45945444e+01],\n",
       "       [ 4.65259278e+00,  2.16466196e+01],\n",
       "       [ 4.35964798e+00,  1.90065305e+01],\n",
       "       [-1.27670651e+01,  1.62997950e+02],\n",
       "       [-1.03706984e+01,  1.07551385e+02],\n",
       "       [-8.04216647e+00,  6.46764415e+01],\n",
       "       [-1.16723510e+00,  1.36243779e+00],\n",
       "       [-1.60852097e+01,  2.58733970e+02],\n",
       "       [-7.72360049e-01,  5.96540045e-01],\n",
       "       [-1.04615400e+01,  1.09443820e+02],\n",
       "       [ 4.75891898e+00,  2.26473098e+01],\n",
       "       [-1.11934099e+01,  1.25292425e+02],\n",
       "       [-2.97308679e+00,  8.83924506e+00],\n",
       "       [-2.70850142e+00,  7.33597993e+00],\n",
       "       [-3.84746957e+00,  1.48030221e+01],\n",
       "       [-4.57042068e+00,  2.08887452e+01],\n",
       "       [-9.50136130e+00,  9.02758665e+01],\n",
       "       [-8.04305336e+00,  6.46907073e+01],\n",
       "       [ 8.36047063e-01,  6.98974692e-01],\n",
       "       [ 3.35576295e+00,  1.12611450e+01],\n",
       "       [-6.20454224e+00,  3.84963444e+01],\n",
       "       [-2.67052324e+00,  7.13169439e+00],\n",
       "       [-8.07349903e+00,  6.51813865e+01],\n",
       "       [-1.12232056e+00,  1.25960344e+00],\n",
       "       [-5.54926992e+00,  3.07943967e+01],\n",
       "       [ 7.93980911e-01,  6.30405687e-01],\n",
       "       [ 7.04552933e+00,  4.96394835e+01],\n",
       "       [-9.11353260e-01,  8.30564765e-01],\n",
       "       [-1.08298316e+00,  1.17285253e+00],\n",
       "       [ 2.68565693e+00,  7.21275314e+00],\n",
       "       [ 2.54076437e+00,  6.45548356e+00],\n",
       "       [-6.55957082e+00,  4.30279694e+01],\n",
       "       [-4.22351396e+00,  1.78380702e+01],\n",
       "       [ 4.21261945e-01,  1.77461626e-01],\n",
       "       [-1.58052676e+01,  2.49806484e+02],\n",
       "       [ 5.03591964e+00,  2.53604866e+01],\n",
       "       [ 1.98381416e+00,  3.93551862e+00],\n",
       "       [ 1.38332206e+00,  1.91357993e+00],\n",
       "       [-1.11939169e+01,  1.25303775e+02],\n",
       "       [-8.79268211e+00,  7.73112587e+01],\n",
       "       [ 3.26418934e+00,  1.06549320e+01],\n",
       "       [ 9.41303086e+00,  8.86051501e+01],\n",
       "       [-1.36447635e+01,  1.86179571e+02]])"
      ]
     },
     "execution_count": 124,
     "metadata": {},
     "output_type": "execute_result"
    }
   ],
   "source": [
    "X_poly"
   ]
  },
  {
   "cell_type": "code",
   "execution_count": null,
   "metadata": {},
   "outputs": [],
   "source": []
  },
  {
   "cell_type": "code",
   "execution_count": 125,
   "metadata": {},
   "outputs": [],
   "source": [
    "from sklearn.linear_model import LinearRegression"
   ]
  },
  {
   "cell_type": "code",
   "execution_count": 126,
   "metadata": {},
   "outputs": [],
   "source": [
    "lin_reg = LinearRegression()"
   ]
  },
  {
   "cell_type": "code",
   "execution_count": 127,
   "metadata": {},
   "outputs": [
    {
     "data": {
      "text/plain": [
       "LinearRegression(copy_X=True, fit_intercept=True, n_jobs=None,\n",
       "         normalize=False)"
      ]
     },
     "execution_count": 127,
     "metadata": {},
     "output_type": "execute_result"
    }
   ],
   "source": [
    "lin_reg.fit(X_poly, y)"
   ]
  },
  {
   "cell_type": "code",
   "execution_count": 128,
   "metadata": {},
   "outputs": [
    {
     "data": {
      "text/plain": [
       "array([-5.        , -4.8989899 , -4.7979798 , -4.6969697 , -4.5959596 ,\n",
       "       -4.49494949, -4.39393939, -4.29292929, -4.19191919, -4.09090909,\n",
       "       -3.98989899, -3.88888889, -3.78787879, -3.68686869, -3.58585859,\n",
       "       -3.48484848, -3.38383838, -3.28282828, -3.18181818, -3.08080808,\n",
       "       -2.97979798, -2.87878788, -2.77777778, -2.67676768, -2.57575758,\n",
       "       -2.47474747, -2.37373737, -2.27272727, -2.17171717, -2.07070707,\n",
       "       -1.96969697, -1.86868687, -1.76767677, -1.66666667, -1.56565657,\n",
       "       -1.46464646, -1.36363636, -1.26262626, -1.16161616, -1.06060606,\n",
       "       -0.95959596, -0.85858586, -0.75757576, -0.65656566, -0.55555556,\n",
       "       -0.45454545, -0.35353535, -0.25252525, -0.15151515, -0.05050505,\n",
       "        0.05050505,  0.15151515,  0.25252525,  0.35353535,  0.45454545,\n",
       "        0.55555556,  0.65656566,  0.75757576,  0.85858586,  0.95959596,\n",
       "        1.06060606,  1.16161616,  1.26262626,  1.36363636,  1.46464646,\n",
       "        1.56565657,  1.66666667,  1.76767677,  1.86868687,  1.96969697,\n",
       "        2.07070707,  2.17171717,  2.27272727,  2.37373737,  2.47474747,\n",
       "        2.57575758,  2.67676768,  2.77777778,  2.87878788,  2.97979798,\n",
       "        3.08080808,  3.18181818,  3.28282828,  3.38383838,  3.48484848,\n",
       "        3.58585859,  3.68686869,  3.78787879,  3.88888889,  3.98989899,\n",
       "        4.09090909,  4.19191919,  4.29292929,  4.39393939,  4.49494949,\n",
       "        4.5959596 ,  4.6969697 ,  4.7979798 ,  4.8989899 ,  5.        ])"
      ]
     },
     "execution_count": 128,
     "metadata": {},
     "output_type": "execute_result"
    }
   ],
   "source": [
    "X_new = np.linspace(-5, 5, 100)\n",
    "X_new"
   ]
  },
  {
   "cell_type": "code",
   "execution_count": 129,
   "metadata": {},
   "outputs": [],
   "source": [
    "X_new = X_new.reshape(-1,1)"
   ]
  },
  {
   "cell_type": "code",
   "execution_count": 130,
   "metadata": {},
   "outputs": [],
   "source": [
    "X_new_poly = poly.fit_transform(X_new)"
   ]
  },
  {
   "cell_type": "code",
   "execution_count": 131,
   "metadata": {},
   "outputs": [],
   "source": [
    "y_new= lin_reg.predict(X_new_poly)"
   ]
  },
  {
   "cell_type": "code",
   "execution_count": 143,
   "metadata": {},
   "outputs": [
    {
     "data": {
      "image/png": "[encoded data removed]",
      "text/plain": [
       "<Figure size 432x288 with 1 Axes>"
      ]
     },
     "metadata": {
      "needs_background": "light"
     },
     "output_type": "display_data"
    }
   ],
   "source": [
    "plt.scatter(X, y)\n",
    "plt.plot(X_new, y_new)\n",
    "plt.axis([-3, 3, 0, 10])\n",
    "plt.show()"
   ]
  },
  {
   "cell_type": "code",
   "execution_count": null,
   "metadata": {},
   "outputs": [],
   "source": []
  },
  {
   "cell_type": "code",
   "execution_count": 98,
   "metadata": {},
   "outputs": [
    {
     "data": {
      "text/plain": [
       "array([[1.03249165, 0.50301762]])"
      ]
     },
     "execution_count": 98,
     "metadata": {},
     "output_type": "execute_result"
    }
   ],
   "source": [
    "lin_reg.coef_"
   ]
  },
  {
   "cell_type": "code",
   "execution_count": 99,
   "metadata": {},
   "outputs": [
    {
     "data": {
      "text/plain": [
       "array([2.09741639])"
      ]
     },
     "execution_count": 99,
     "metadata": {},
     "output_type": "execute_result"
    }
   ],
   "source": [
    "lin_reg.intercept_"
   ]
  },
  {
   "cell_type": "code",
   "execution_count": null,
   "metadata": {},
   "outputs": [],
   "source": []
  },
  {
   "cell_type": "code",
   "execution_count": 144,
   "metadata": {},
   "outputs": [],
   "source": [
    "import sklearn"
   ]
  },
  {
   "cell_type": "code",
   "execution_count": 145,
   "metadata": {},
   "outputs": [
    {
     "data": {
      "text/plain": [
       "'0.20.1'"
      ]
     },
     "execution_count": 145,
     "metadata": {},
     "output_type": "execute_result"
    }
   ],
   "source": [
    "sklearn.__version__"
   ]
  },
  {
   "cell_type": "code",
   "execution_count": null,
   "metadata": {},
   "outputs": [],
   "source": []
  }
 ],
 "metadata": {
  "kernelspec": {
   "display_name": "Python 3",
   "language": "python",
   "name": "python3"
  },
  "language_info": {
   "codemirror_mode": {
    "name": "ipython",
    "version": 3
   },
   "file_extension": ".py",
   "mimetype": "text/x-python",
   "name": "python",
   "nbconvert_exporter": "python",
   "pygments_lexer": "ipython3",
   "version": "3.7.1"
  }
 },
 "nbformat": 4,
 "nbformat_minor": 2
}
