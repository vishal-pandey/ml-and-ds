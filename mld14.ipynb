{
 "cells": [
  {
   "cell_type": "code",
   "execution_count": 2,
   "metadata": {},
   "outputs": [],
   "source": [
    "import numpy as np\n",
    "import matplotlib.pyplot as plt\n",
    "import pandas as pd\n",
    "import re\n",
    "import nltk\n"
   ]
  },
  {
   "cell_type": "code",
   "execution_count": 3,
   "metadata": {},
   "outputs": [],
   "source": [
    "from nltk.corpus import stopwords"
   ]
  },
  {
   "cell_type": "code",
   "execution_count": 4,
   "metadata": {},
   "outputs": [
    {
     "name": "stderr",
     "output_type": "stream",
     "text": [
      "[nltk_data] Downloading package stopwords to\n",
      "[nltk_data]     /Users/vishalpandey/nltk_data...\n",
      "[nltk_data]   Package stopwords is already up-to-date!\n"
     ]
    },
    {
     "data": {
      "text/plain": [
       "True"
      ]
     },
     "execution_count": 4,
     "metadata": {},
     "output_type": "execute_result"
    }
   ],
   "source": [
    "nltk.download('stopwords')"
   ]
  },
  {
   "cell_type": "code",
   "execution_count": 5,
   "metadata": {},
   "outputs": [],
   "source": [
    "from nltk.stem.porter import PorterStemmer"
   ]
  },
  {
   "cell_type": "code",
   "execution_count": 6,
   "metadata": {},
   "outputs": [],
   "source": [
    "ps = PorterStemmer()"
   ]
  },
  {
   "cell_type": "code",
   "execution_count": null,
   "metadata": {},
   "outputs": [],
   "source": []
  },
  {
   "cell_type": "code",
   "execution_count": 7,
   "metadata": {},
   "outputs": [],
   "source": [
    "dataset = pd.read_csv('datasets/traintweet.csv')"
   ]
  },
  {
   "cell_type": "code",
   "execution_count": 8,
   "metadata": {},
   "outputs": [
    {
     "data": {
      "text/html": [
       "<div>\n",
       "<style scoped>\n",
       "    .dataframe tbody tr th:only-of-type {\n",
       "        vertical-align: middle;\n",
       "    }\n",
       "\n",
       "    .dataframe tbody tr th {\n",
       "        vertical-align: top;\n",
       "    }\n",
       "\n",
       "    .dataframe thead th {\n",
       "        text-align: right;\n",
       "    }\n",
       "</style>\n",
       "<table border=\"1\" class=\"dataframe\">\n",
       "  <thead>\n",
       "    <tr style=\"text-align: right;\">\n",
       "      <th></th>\n",
       "      <th>id</th>\n",
       "      <th>label</th>\n",
       "      <th>tweet</th>\n",
       "    </tr>\n",
       "  </thead>\n",
       "  <tbody>\n",
       "    <tr>\n",
       "      <th>0</th>\n",
       "      <td>1</td>\n",
       "      <td>0</td>\n",
       "      <td>@user when a father is dysfunctional and is s...</td>\n",
       "    </tr>\n",
       "    <tr>\n",
       "      <th>1</th>\n",
       "      <td>2</td>\n",
       "      <td>0</td>\n",
       "      <td>@user @user thanks for #lyft credit i can't us...</td>\n",
       "    </tr>\n",
       "    <tr>\n",
       "      <th>2</th>\n",
       "      <td>3</td>\n",
       "      <td>0</td>\n",
       "      <td>bihday your majesty</td>\n",
       "    </tr>\n",
       "    <tr>\n",
       "      <th>3</th>\n",
       "      <td>4</td>\n",
       "      <td>0</td>\n",
       "      <td>#model   i love u take with u all the time in ...</td>\n",
       "    </tr>\n",
       "    <tr>\n",
       "      <th>4</th>\n",
       "      <td>5</td>\n",
       "      <td>0</td>\n",
       "      <td>factsguide: society now    #motivation</td>\n",
       "    </tr>\n",
       "    <tr>\n",
       "      <th>5</th>\n",
       "      <td>6</td>\n",
       "      <td>0</td>\n",
       "      <td>[2/2] huge fan fare and big talking before the...</td>\n",
       "    </tr>\n",
       "    <tr>\n",
       "      <th>6</th>\n",
       "      <td>7</td>\n",
       "      <td>0</td>\n",
       "      <td>@user camping tomorrow @user @user @user @use...</td>\n",
       "    </tr>\n",
       "    <tr>\n",
       "      <th>7</th>\n",
       "      <td>8</td>\n",
       "      <td>0</td>\n",
       "      <td>the next school year is the year for exams.ð...</td>\n",
       "    </tr>\n",
       "    <tr>\n",
       "      <th>8</th>\n",
       "      <td>9</td>\n",
       "      <td>0</td>\n",
       "      <td>we won!!! love the land!!! #allin #cavs #champ...</td>\n",
       "    </tr>\n",
       "    <tr>\n",
       "      <th>9</th>\n",
       "      <td>10</td>\n",
       "      <td>0</td>\n",
       "      <td>@user @user welcome here !  i'm   it's so #gr...</td>\n",
       "    </tr>\n",
       "    <tr>\n",
       "      <th>10</th>\n",
       "      <td>11</td>\n",
       "      <td>0</td>\n",
       "      <td>â #ireland consumer price index (mom) climb...</td>\n",
       "    </tr>\n",
       "    <tr>\n",
       "      <th>11</th>\n",
       "      <td>12</td>\n",
       "      <td>0</td>\n",
       "      <td>we are so selfish. #orlando #standwithorlando ...</td>\n",
       "    </tr>\n",
       "    <tr>\n",
       "      <th>12</th>\n",
       "      <td>13</td>\n",
       "      <td>0</td>\n",
       "      <td>i get to see my daddy today!!   #80days #getti...</td>\n",
       "    </tr>\n",
       "    <tr>\n",
       "      <th>13</th>\n",
       "      <td>14</td>\n",
       "      <td>1</td>\n",
       "      <td>@user #cnn calls #michigan middle school 'buil...</td>\n",
       "    </tr>\n",
       "    <tr>\n",
       "      <th>14</th>\n",
       "      <td>15</td>\n",
       "      <td>1</td>\n",
       "      <td>no comment!  in #australia   #opkillingbay #se...</td>\n",
       "    </tr>\n",
       "    <tr>\n",
       "      <th>15</th>\n",
       "      <td>16</td>\n",
       "      <td>0</td>\n",
       "      <td>ouch...junior is angryð#got7 #junior #yugyo...</td>\n",
       "    </tr>\n",
       "    <tr>\n",
       "      <th>16</th>\n",
       "      <td>17</td>\n",
       "      <td>0</td>\n",
       "      <td>i am thankful for having a paner. #thankful #p...</td>\n",
       "    </tr>\n",
       "    <tr>\n",
       "      <th>17</th>\n",
       "      <td>18</td>\n",
       "      <td>1</td>\n",
       "      <td>retweet if you agree!</td>\n",
       "    </tr>\n",
       "    <tr>\n",
       "      <th>18</th>\n",
       "      <td>19</td>\n",
       "      <td>0</td>\n",
       "      <td>its #friday! ð smiles all around via ig use...</td>\n",
       "    </tr>\n",
       "    <tr>\n",
       "      <th>19</th>\n",
       "      <td>20</td>\n",
       "      <td>0</td>\n",
       "      <td>as we all know, essential oils are not made of...</td>\n",
       "    </tr>\n",
       "    <tr>\n",
       "      <th>20</th>\n",
       "      <td>21</td>\n",
       "      <td>0</td>\n",
       "      <td>#euro2016 people blaming ha for conceded goal ...</td>\n",
       "    </tr>\n",
       "    <tr>\n",
       "      <th>21</th>\n",
       "      <td>22</td>\n",
       "      <td>0</td>\n",
       "      <td>sad little dude..   #badday #coneofshame #cats...</td>\n",
       "    </tr>\n",
       "    <tr>\n",
       "      <th>22</th>\n",
       "      <td>23</td>\n",
       "      <td>0</td>\n",
       "      <td>product of the day: happy man #wine tool  who'...</td>\n",
       "    </tr>\n",
       "    <tr>\n",
       "      <th>23</th>\n",
       "      <td>24</td>\n",
       "      <td>1</td>\n",
       "      <td>@user @user lumpy says i am a . prove it lumpy.</td>\n",
       "    </tr>\n",
       "    <tr>\n",
       "      <th>24</th>\n",
       "      <td>25</td>\n",
       "      <td>0</td>\n",
       "      <td>@user #tgif   #ff to my #gamedev #indiedev #i...</td>\n",
       "    </tr>\n",
       "    <tr>\n",
       "      <th>25</th>\n",
       "      <td>26</td>\n",
       "      <td>0</td>\n",
       "      <td>beautiful sign by vendor 80 for $45.00!! #upsi...</td>\n",
       "    </tr>\n",
       "    <tr>\n",
       "      <th>26</th>\n",
       "      <td>27</td>\n",
       "      <td>0</td>\n",
       "      <td>@user all #smiles when #media is   !! ðð...</td>\n",
       "    </tr>\n",
       "    <tr>\n",
       "      <th>27</th>\n",
       "      <td>28</td>\n",
       "      <td>0</td>\n",
       "      <td>we had a great panel on the mediatization of t...</td>\n",
       "    </tr>\n",
       "    <tr>\n",
       "      <th>28</th>\n",
       "      <td>29</td>\n",
       "      <td>0</td>\n",
       "      <td>happy father's day @user ðððð</td>\n",
       "    </tr>\n",
       "    <tr>\n",
       "      <th>29</th>\n",
       "      <td>30</td>\n",
       "      <td>0</td>\n",
       "      <td>50 people went to nightclub to have a good nig...</td>\n",
       "    </tr>\n",
       "    <tr>\n",
       "      <th>...</th>\n",
       "      <td>...</td>\n",
       "      <td>...</td>\n",
       "      <td>...</td>\n",
       "    </tr>\n",
       "    <tr>\n",
       "      <th>31932</th>\n",
       "      <td>31933</td>\n",
       "      <td>0</td>\n",
       "      <td>@user thanks gemma</td>\n",
       "    </tr>\n",
       "    <tr>\n",
       "      <th>31933</th>\n",
       "      <td>31934</td>\n",
       "      <td>1</td>\n",
       "      <td>@user judd is a  &amp;amp; #homophobic #freemilo #...</td>\n",
       "    </tr>\n",
       "    <tr>\n",
       "      <th>31934</th>\n",
       "      <td>31935</td>\n",
       "      <td>1</td>\n",
       "      <td>lady banned from kentucky mall. @user  #jcpenn...</td>\n",
       "    </tr>\n",
       "    <tr>\n",
       "      <th>31935</th>\n",
       "      <td>31936</td>\n",
       "      <td>0</td>\n",
       "      <td>ugh i'm trying to enjoy my happy hour drink &amp;a...</td>\n",
       "    </tr>\n",
       "    <tr>\n",
       "      <th>31936</th>\n",
       "      <td>31937</td>\n",
       "      <td>0</td>\n",
       "      <td>want to know how to live a   life? do more thi...</td>\n",
       "    </tr>\n",
       "    <tr>\n",
       "      <th>31937</th>\n",
       "      <td>31938</td>\n",
       "      <td>0</td>\n",
       "      <td>love island ð</td>\n",
       "    </tr>\n",
       "    <tr>\n",
       "      <th>31938</th>\n",
       "      <td>31939</td>\n",
       "      <td>0</td>\n",
       "      <td>my fav actor #vijaysethupathi ! my fav actress...</td>\n",
       "    </tr>\n",
       "    <tr>\n",
       "      <th>31939</th>\n",
       "      <td>31940</td>\n",
       "      <td>0</td>\n",
       "      <td>whew  ð",
       " it's a productive and   #friday!!!</td>\n",
       "    </tr>\n",
       "    <tr>\n",
       "      <th>31940</th>\n",
       "      <td>31941</td>\n",
       "      <td>0</td>\n",
       "      <td>@user she's finally here! @user</td>\n",
       "    </tr>\n",
       "    <tr>\n",
       "      <th>31941</th>\n",
       "      <td>31942</td>\n",
       "      <td>0</td>\n",
       "      <td>passed first year of uni #yay #love #pass #uni...</td>\n",
       "    </tr>\n",
       "    <tr>\n",
       "      <th>31942</th>\n",
       "      <td>31943</td>\n",
       "      <td>0</td>\n",
       "      <td>this week is flying by   #humpday - #wednesday...</td>\n",
       "    </tr>\n",
       "    <tr>\n",
       "      <th>31943</th>\n",
       "      <td>31944</td>\n",
       "      <td>0</td>\n",
       "      <td>@user modeling photoshoot this friday yay #mo...</td>\n",
       "    </tr>\n",
       "    <tr>\n",
       "      <th>31944</th>\n",
       "      <td>31945</td>\n",
       "      <td>0</td>\n",
       "      <td>you're surrounded by people who love you (even...</td>\n",
       "    </tr>\n",
       "    <tr>\n",
       "      <th>31945</th>\n",
       "      <td>31946</td>\n",
       "      <td>0</td>\n",
       "      <td>feel like... ðð¶ð #dog #summer #hot #h...</td>\n",
       "    </tr>\n",
       "    <tr>\n",
       "      <th>31946</th>\n",
       "      <td>31947</td>\n",
       "      <td>1</td>\n",
       "      <td>@user omfg i'm offended! i'm a  mailbox and i'...</td>\n",
       "    </tr>\n",
       "    <tr>\n",
       "      <th>31947</th>\n",
       "      <td>31948</td>\n",
       "      <td>1</td>\n",
       "      <td>@user @user you don't have the balls to hashta...</td>\n",
       "    </tr>\n",
       "    <tr>\n",
       "      <th>31948</th>\n",
       "      <td>31949</td>\n",
       "      <td>1</td>\n",
       "      <td>makes you ask yourself, who am i? then am i a...</td>\n",
       "    </tr>\n",
       "    <tr>\n",
       "      <th>31949</th>\n",
       "      <td>31950</td>\n",
       "      <td>0</td>\n",
       "      <td>hear one of my new songs! don't go - katie ell...</td>\n",
       "    </tr>\n",
       "    <tr>\n",
       "      <th>31950</th>\n",
       "      <td>31951</td>\n",
       "      <td>0</td>\n",
       "      <td>@user you can try to 'tail' us to stop, 'butt...</td>\n",
       "    </tr>\n",
       "    <tr>\n",
       "      <th>31951</th>\n",
       "      <td>31952</td>\n",
       "      <td>0</td>\n",
       "      <td>i've just posted a new blog: #secondlife #lone...</td>\n",
       "    </tr>\n",
       "    <tr>\n",
       "      <th>31952</th>\n",
       "      <td>31953</td>\n",
       "      <td>0</td>\n",
       "      <td>@user you went too far with @user</td>\n",
       "    </tr>\n",
       "    <tr>\n",
       "      <th>31953</th>\n",
       "      <td>31954</td>\n",
       "      <td>0</td>\n",
       "      <td>good morning #instagram #shower #water #berlin...</td>\n",
       "    </tr>\n",
       "    <tr>\n",
       "      <th>31954</th>\n",
       "      <td>31955</td>\n",
       "      <td>0</td>\n",
       "      <td>#holiday   bull up: you will dominate your bul...</td>\n",
       "    </tr>\n",
       "    <tr>\n",
       "      <th>31955</th>\n",
       "      <td>31956</td>\n",
       "      <td>0</td>\n",
       "      <td>less than 2 weeks ð",
       "ðð¼ð¹ððµ @us...</td>\n",
       "    </tr>\n",
       "    <tr>\n",
       "      <th>31956</th>\n",
       "      <td>31957</td>\n",
       "      <td>0</td>\n",
       "      <td>off fishing tomorrow @user carnt wait first ti...</td>\n",
       "    </tr>\n",
       "    <tr>\n",
       "      <th>31957</th>\n",
       "      <td>31958</td>\n",
       "      <td>0</td>\n",
       "      <td>ate @user isz that youuu?ðððððð...</td>\n",
       "    </tr>\n",
       "    <tr>\n",
       "      <th>31958</th>\n",
       "      <td>31959</td>\n",
       "      <td>0</td>\n",
       "      <td>to see nina turner on the airwaves trying to...</td>\n",
       "    </tr>\n",
       "    <tr>\n",
       "      <th>31959</th>\n",
       "      <td>31960</td>\n",
       "      <td>0</td>\n",
       "      <td>listening to sad songs on a monday morning otw...</td>\n",
       "    </tr>\n",
       "    <tr>\n",
       "      <th>31960</th>\n",
       "      <td>31961</td>\n",
       "      <td>1</td>\n",
       "      <td>@user #sikh #temple vandalised in in #calgary,...</td>\n",
       "    </tr>\n",
       "    <tr>\n",
       "      <th>31961</th>\n",
       "      <td>31962</td>\n",
       "      <td>0</td>\n",
       "      <td>thank you @user for you follow</td>\n",
       "    </tr>\n",
       "  </tbody>\n",
       "</table>\n",
       "<p>31962 rows × 3 columns</p>\n",
       "</div>"
      ],
      "text/plain": [
       "          id  label                                              tweet\n",
       "0          1      0   @user when a father is dysfunctional and is s...\n",
       "1          2      0  @user @user thanks for #lyft credit i can't us...\n",
       "2          3      0                                bihday your majesty\n",
       "3          4      0  #model   i love u take with u all the time in ...\n",
       "4          5      0             factsguide: society now    #motivation\n",
       "5          6      0  [2/2] huge fan fare and big talking before the...\n",
       "6          7      0   @user camping tomorrow @user @user @user @use...\n",
       "7          8      0  the next school year is the year for exams.ð...\n",
       "8          9      0  we won!!! love the land!!! #allin #cavs #champ...\n",
       "9         10      0   @user @user welcome here !  i'm   it's so #gr...\n",
       "10        11      0   â #ireland consumer price index (mom) climb...\n",
       "11        12      0  we are so selfish. #orlando #standwithorlando ...\n",
       "12        13      0  i get to see my daddy today!!   #80days #getti...\n",
       "13        14      1  @user #cnn calls #michigan middle school 'buil...\n",
       "14        15      1  no comment!  in #australia   #opkillingbay #se...\n",
       "15        16      0  ouch...junior is angryð#got7 #junior #yugyo...\n",
       "16        17      0  i am thankful for having a paner. #thankful #p...\n",
       "17        18      1                             retweet if you agree! \n",
       "18        19      0  its #friday! ð smiles all around via ig use...\n",
       "19        20      0  as we all know, essential oils are not made of...\n",
       "20        21      0  #euro2016 people blaming ha for conceded goal ...\n",
       "21        22      0  sad little dude..   #badday #coneofshame #cats...\n",
       "22        23      0  product of the day: happy man #wine tool  who'...\n",
       "23        24      1    @user @user lumpy says i am a . prove it lumpy.\n",
       "24        25      0   @user #tgif   #ff to my #gamedev #indiedev #i...\n",
       "25        26      0  beautiful sign by vendor 80 for $45.00!! #upsi...\n",
       "26        27      0   @user all #smiles when #media is   !! ðð...\n",
       "27        28      0  we had a great panel on the mediatization of t...\n",
       "28        29      0        happy father's day @user ðððð  \n",
       "29        30      0  50 people went to nightclub to have a good nig...\n",
       "...      ...    ...                                                ...\n",
       "31932  31933      0                               @user thanks gemma  \n",
       "31933  31934      1  @user judd is a  &amp; #homophobic #freemilo #...\n",
       "31934  31935      1  lady banned from kentucky mall. @user  #jcpenn...\n",
       "31935  31936      0  ugh i'm trying to enjoy my happy hour drink &a...\n",
       "31936  31937      0  want to know how to live a   life? do more thi...\n",
       "31937  31938      0                                 love island ð  \n",
       "31938  31939      0  my fav actor #vijaysethupathi ! my fav actress...\n",
       "31939  31940      0      whew  ð\n",
       " it's a productive and   #friday!!!\n",
       "31940  31941      0                 @user she's finally here! @user   \n",
       "31941  31942      0  passed first year of uni #yay #love #pass #uni...\n",
       "31942  31943      0  this week is flying by   #humpday - #wednesday...\n",
       "31943  31944      0   @user modeling photoshoot this friday yay #mo...\n",
       "31944  31945      0  you're surrounded by people who love you (even...\n",
       "31945  31946      0  feel like... ðð¶ð #dog #summer #hot #h...\n",
       "31946  31947      1  @user omfg i'm offended! i'm a  mailbox and i'...\n",
       "31947  31948      1  @user @user you don't have the balls to hashta...\n",
       "31948  31949      1   makes you ask yourself, who am i? then am i a...\n",
       "31949  31950      0  hear one of my new songs! don't go - katie ell...\n",
       "31950  31951      0   @user you can try to 'tail' us to stop, 'butt...\n",
       "31951  31952      0  i've just posted a new blog: #secondlife #lone...\n",
       "31952  31953      0                @user you went too far with @user  \n",
       "31953  31954      0  good morning #instagram #shower #water #berlin...\n",
       "31954  31955      0  #holiday   bull up: you will dominate your bul...\n",
       "31955  31956      0  less than 2 weeks ð\n",
       "ðð¼ð¹ððµ @us...\n",
       "31956  31957      0  off fishing tomorrow @user carnt wait first ti...\n",
       "31957  31958      0  ate @user isz that youuu?ðððððð...\n",
       "31958  31959      0    to see nina turner on the airwaves trying to...\n",
       "31959  31960      0  listening to sad songs on a monday morning otw...\n",
       "31960  31961      1  @user #sikh #temple vandalised in in #calgary,...\n",
       "31961  31962      0                   thank you @user for you follow  \n",
       "\n",
       "[31962 rows x 3 columns]"
      ]
     },
     "execution_count": 8,
     "metadata": {},
     "output_type": "execute_result"
    }
   ],
   "source": [
    "dataset"
   ]
  },
  {
   "cell_type": "code",
   "execution_count": 9,
   "metadata": {},
   "outputs": [
    {
     "data": {
      "text/plain": [
       "' @user when a father is dysfunctional and is so selfish he drags his kids into his dysfunction.   #run'"
      ]
     },
     "execution_count": 9,
     "metadata": {},
     "output_type": "execute_result"
    }
   ],
   "source": [
    "dataset['tweet'][0]"
   ]
  },
  {
   "cell_type": "code",
   "execution_count": null,
   "metadata": {},
   "outputs": [],
   "source": []
  },
  {
   "cell_type": "code",
   "execution_count": 10,
   "metadata": {},
   "outputs": [],
   "source": [
    "processed_list = []\n",
    "for i in range(len(dataset['tweet'])):\n",
    "    tweet = re.sub('@[\\w]*', ' ', dataset['tweet'][i])\n",
    "    tweet = re.sub('[^a-zA-Z#]', ' ', tweet)\n",
    "    tweet = tweet.lower()\n",
    "    tweet = tweet.split()\n",
    "    tweet = [ps.stem(token) for token in tweet if not token in stopwords.words('english')]\n",
    "    tweet = \" \".join(tweet)\n",
    "    processed_list.append(tweet)"
   ]
  },
  {
   "cell_type": "code",
   "execution_count": 11,
   "metadata": {},
   "outputs": [],
   "source": [
    "# processed_list"
   ]
  },
  {
   "cell_type": "code",
   "execution_count": 12,
   "metadata": {},
   "outputs": [],
   "source": [
    "from sklearn.feature_extraction.text import CountVectorizer"
   ]
  },
  {
   "cell_type": "code",
   "execution_count": 13,
   "metadata": {},
   "outputs": [],
   "source": [
    "cv = CountVectorizer(max_features=3000)\n"
   ]
  },
  {
   "cell_type": "code",
   "execution_count": 14,
   "metadata": {},
   "outputs": [],
   "source": [
    "X = cv.fit_transform(processed_list)"
   ]
  },
  {
   "cell_type": "code",
   "execution_count": 15,
   "metadata": {},
   "outputs": [],
   "source": [
    "X = X.toarray()"
   ]
  },
  {
   "cell_type": "code",
   "execution_count": 16,
   "metadata": {},
   "outputs": [],
   "source": [
    "y = dataset.iloc[:, 1].values"
   ]
  },
  {
   "cell_type": "code",
   "execution_count": 17,
   "metadata": {},
   "outputs": [
    {
     "name": "stdout",
     "output_type": "stream",
     "text": [
      "['aap', 'abl', 'abrahamhick', 'absolut', 'abt', 'abus', 'accept', 'access', 'accessori', 'accid', 'account', 'accus', 'ace', 'ach', 'achiev', 'acn', 'across', 'act', 'action', 'activ', 'actor', 'actress', 'actual', 'ad', 'adam', 'adapt', 'add', 'addict', 'addit', 'address', 'adel', 'admit', 'adopt', 'ador', 'adult', 'advanc', 'adveis', 'adventur', 'advic', 'advoc', 'af', 'affect', 'affirm', 'afford', 'afraid', 'africa', 'african', 'afternoon', 'ag', 'age', 'agenda', 'ago', 'agre', 'ah', 'ahead', 'aicl', 'aim', 'air', 'airpo', 'aist', 'aka', 'al', 'alarm', 'album', 'alcohol', 'aldub', 'ale', 'alex', 'ali', 'aliv', 'all', 'allah', 'allahsoil', 'alli', 'allig', 'allow', 'almost', 'alon', 'along', 'alreadi', 'also', 'alt', 'altern', 'altright', 'altwaystoh', 'alway', 'amarind', 'amaz', 'amazon', 'amen', 'america', 'american', 'among', 'amount', 'amp', 'amsterdam', 'amwrit', 'ana', 'anal', 'analyt', 'and', 'andrew', 'android', 'angel', 'anger', 'angri', 'anim', 'ann', 'anna', 'anniversari', 'announc', 'annoy', 'annual', 'anoth', 'answer', 'anthem', 'anti', 'antirac', 'antisemit', 'anton', 'antonyelchin', 'anxieti', 'anxiou', 'anybodi', 'anymor', 'anyon', 'anyth', 'anyway', 'anywher', 'apa', 'apament', 'apolog', 'app', 'appar', 'appear', 'appl', 'appli', 'appoint', 'appreci', 'approv', 'april', 'arab', 'area', 'argu', 'argument', 'arm', 'around', 'arrest', 'arriv', 'ascot', 'asham', 'ashiq', 'asia', 'asian', 'ask', 'ass', 'assault', 'assess', 'asshol', 'assum', 'astrolog', 'ate', 'atherapi', 'athlet', 'atlanta', 'atm', 'attack', 'attempt', 'attend', 'attent', 'attitud', 'attract', 'aud', 'audit', 'august', 'australia', 'author', 'avail', 'averag', 'avoid', 'aw', 'await', 'awak', 'awar', 'award', 'away', 'awesom', 'awork', 'aww', 'babe', 'babi', 'babygirl', 'back', 'background', 'bad', 'badli', 'bae', 'bag', 'bake', 'balanc', 'bali', 'ball', 'balloon', 'ban', 'band', 'bang', 'bank', 'bar', 'barcelona', 'bare', 'base', 'basebal', 'bash', 'basi', 'basic', 'basketbal', 'bastard', 'bath', 'batman', 'battl', 'battlefield', 'bay', 'bbc', 'bbq', 'bbuk', 'bbw', 'bc', 'bday', 'be', 'beach', 'bear', 'beard', 'beat', 'beauti', 'beautiful', 'becom', 'bed', 'bee', 'beer', 'beg', 'begin', 'behappi', 'behind', 'belief', 'believ', 'bell', 'belong', 'benefit', 'berlin', 'berni', 'besid', 'best', 'bestfriend', 'besti', 'bestoftheday', 'bestsel', 'bet', 'betray', 'better', 'beuti', 'beyond', 'bf', 'bff', 'big', 'bigger', 'biggest', 'bigot', 'bigotri', 'bih', 'bihday', 'bihdaygirl', 'bike', 'bikini', 'bill', 'billi', 'bing', 'bio', 'bird', 'birmingham', 'bit', 'bitch', 'bitcoin', 'bite', 'bitter', 'bjp', 'black', 'blackandwhit', 'blacklivesmatt', 'blame', 'blast', 'bless', 'blind', 'bliss', 'blm', 'block', 'blog', 'blogger', 'blond', 'blood', 'bloodi', 'bloom', 'blow', 'blue', 'blueski', 'blur', 'board', 'boat', 'bob', 'bodi', 'bogota', 'bollywood', 'bomb', 'bond', 'bone', 'bong', 'boo', 'book', 'boom', 'boot', 'bore', 'boricua', 'born', 'boss', 'boston', 'bot', 'bother', 'bottl', 'bottom', 'bought', 'bounc', 'bouncingbabi', 'bound', 'bout', 'bowl', 'box', 'boy', 'boycott', 'boyfriend', 'bracelet', 'brain', 'brand', 'brave', 'bread', 'break', 'breakfast', 'breath', 'brexit', 'bride', 'bridesmaid', 'bridg', 'bright', 'brighton', 'brilliant', 'bring', 'british', 'bro', 'broadway', 'broke', 'broken', 'broker', 'brooklyn', 'brother', 'brought', 'brown', 'brunch', 'brunett', 'brutal', 'bs', 'bt', 'btw', 'bu', 'bubbl', 'buddi', 'buffalo', 'build', 'bull', 'bulli', 'bullshit', 'bum', 'bunch', 'bunni', 'burger', 'burn', 'busi', 'butt', 'butterfli', 'button', 'buy', 'buzz', 'bye', 'ca', 'cad', 'cafe', 'cake', 'calgari', 'california', 'call', 'calm', 'came', 'camera', 'camp', 'campaign', 'camper', 'can', 'canada', 'canadian', 'cancel', 'cancer', 'candid', 'candl', 'cannot', 'cant', 'cantwait', 'caoon', 'captur', 'car', 'card', 'cardiff', 'care', 'career', 'carl', 'carlpaladino', 'carri', 'case', 'cast', 'cat', 'catch', 'caturday', 'caught', 'caus', 'cav', 'cd', 'ceain', 'cedm', 'celebr', 'censor', 'censorship', 'center', 'centr', 'centuri', 'ceremoni', 'chair', 'challeng', 'champion', 'championship', 'chanc', 'chang', 'channel', 'chapter', 'charact', 'charg', 'chariti', 'charm', 'chase', 'chat', 'cheap', 'cheat', 'check', 'cheeki', 'cheer', 'chees', 'cherri', 'chicago', 'chick', 'chicken', 'child', 'childhood', 'children', 'chile', 'chill', 'china', 'chip', 'chocol', 'choic', 'choos', 'chosen', 'chri', 'christ', 'christian', 'christina', 'christinagrimmi', 'christma', 'church', 'cinema', 'circl', 'citi', 'citizen', 'claim', 'class', 'classic', 'classroom', 'clean', 'clear', 'clearli', 'cleveland', 'click', 'client', 'climb', 'clinton', 'clock', 'close', 'closer', 'cloth', 'cloud', 'cloudi', 'clown', 'club', 'clue', 'cm', 'cnn', 'co', 'coach', 'cock', 'cocktail', 'code', 'coffe', 'cold', 'coldplay', 'coldplaywembley', 'collect', 'colleg', 'colombia', 'color', 'colour', 'com', 'come', 'comedi', 'comfo', 'comic', 'comingsoon', 'comment', 'commerci', 'commit', 'common', 'commun', 'compani', 'compar', 'compass', 'competit', 'complain', 'complaint', 'complet', 'comput', 'con', 'conc', 'concept', 'concern', 'condemn', 'condit', 'condol', 'confer', 'confid', 'confirm', 'confus', 'congrat', 'congratul', 'congress', 'conjur', 'connect', 'conserv', 'consid', 'constitut', 'consum', 'contact', 'contain', 'content', 'contest', 'continu', 'contract', 'control', 'convers', 'convinc', 'cook', 'cooki', 'cool', 'cop', 'copi', 'correct', 'corrupt', 'cost', 'cou', 'could', 'count', 'countdown', 'countri', 'coupl', 'coupon', 'courag', 'cours', 'cousin', 'cover', 'cow', 'cox', 'coz', 'crack', 'craft', 'crap', 'crash', 'crazi', 'cream', 'creat', 'creativ', 'credit', 'crew', 'cri', 'cricket', 'crime', 'crimin', 'crisi', 'critic', 'cross', 'crowd', 'cruel', 'cruis', 'crush', 'crystal', 'cucumb', 'cuddl', 'cultur', 'cup', 'current', 'curri', 'custom', 'cut', 'cute', 'cutest', 'cuti', 'cuz', 'cycl', 'da', 'dad', 'daddi', 'daili', 'damag', 'damn', 'danc', 'dancer', 'danger', 'dare', 'dark', 'dat', 'data', 'date', 'daughter', 'david', 'dawn', 'day', 'dayoff', 'dc', 'de', 'dead', 'deal', 'dear', 'death', 'debat', 'decad', 'decid', 'decis', 'declar', 'decor', 'dedic', 'deep', 'deepli', 'defeat', 'defend', 'defens', 'definit', 'degre', 'delay', 'delet', 'deletetweet', 'delhi', 'delici', 'delight', 'deliv', 'deliveri', 'dem', 'demand', 'demo', 'democraci', 'democrat', 'denial', 'depress', 'describ', 'dese', 'deserv', 'design', 'desir', 'desper', 'despit', 'dess', 'destin', 'destini', 'destroy', 'destruct', 'detail', 'determin', 'detoxdiet', 'dev', 'develop', 'dey', 'di', 'dick', 'didnt', 'die', 'diet', 'differ', 'difficult', 'dig', 'digit', 'dinner', 'direct', 'director', 'disabl', 'disappoint', 'discov', 'discrimin', 'discuss', 'diseas', 'disgrac', 'disgust', 'disney', 'disneyland', 'disrespect', 'distanc', 'dive', 'divers', 'divid', 'diy', 'dj', 'dm', 'doctor', 'documentari', 'doesnt', 'dog', 'doggi', 'dogsarejoy', 'dogsofinstagram', 'dollar', 'domest', 'domin', 'donald', 'donaldtrump', 'donat', 'done', 'dont', 'door', 'dope', 'doplant', 'dori', 'doubl', 'doubt', 'download', 'downtown', 'dr', 'draft', 'drag', 'dragon', 'drama', 'draw', 'dream', 'dress', 'dri', 'drink', 'drive', 'driver', 'drop', 'drug', 'drum', 'drunk', 'dubai', 'dublin', 'duck', 'dude', 'due', 'dumb', 'dust', 'dwd', 'eah', 'ear', 'earli', 'earn', 'easi', 'easier', 'easili', 'east', 'eat', 'ebook', 'economi', 'ed', 'edc', 'edinburgh', 'edit', 'edm', 'educ', 'educationfest', 'effect', 'effo', 'egg', 'ego', 'eid', 'either', 'elect', 'electr', 'electron', 'els', 'em', 'email', 'embarrass', 'embrac', 'emerg', 'emirati', 'emo', 'emoji', 'emot', 'employ', 'employe', 'empti', 'en', 'encourag', 'end', 'endors', 'enemi', 'energi', 'eng', 'engag', 'engin', 'england', 'english', 'enjoy', 'enjoylif', 'enough', 'enteain', 'enter', 'entir', 'entrepreneur', 'entri', 'environ', 'environment', 'ep', 'epic', 'episod', 'equal', 'escap', 'especi', 'essenti', 'essentialoil', 'etc', 'etsi', 'eu', 'eur', 'euro', 'europ', 'european', 'eve', 'even', 'event', 'ever', 'everi', 'everybodi', 'everyday', 'everyon', 'everyth', 'everywher', 'evil', 'ex', 'exactli', 'exam', 'exampl', 'excel', 'except', 'excit', 'excus', 'exercis', 'exhaust', 'exhibit', 'exist', 'exo', 'expans', 'expect', 'expens', 'experi', 'experienc', 'explain', 'explor', 'expos', 'express', 'extend', 'extra', 'extrem', 'ey', 'eye', 'fa', 'fab', 'fabul', 'face', 'facebook', 'fact', 'factori', 'factsguid', 'fail', 'failur', 'fair', 'faith', 'fake', 'fall', 'fals', 'fam', 'famili', 'familytim', 'famou', 'fan', 'fantasi', 'fantast', 'far', 'faraz', 'fargo', 'farm', 'farmer', 'fascism', 'fascist', 'fashion', 'fast', 'faster', 'fat', 'father', 'fathersday', 'fault', 'fav', 'fave', 'favorit', 'favourit', 'fb', 'fbi', 'fear', 'featur', 'fed', 'feed', 'feedback', 'feel', 'feelgood', 'feelinggood', 'feet', 'feliz', 'fell', 'fella', 'fellow', 'felt', 'femal', 'femin', 'feminismiscanc', 'feminismisterror', 'feminismmuktbharat', 'feminist', 'festiv', 'ff', 'field', 'fight', 'fighter', 'figur', 'fill', 'film', 'filter', 'final', 'find', 'findingdori', 'fine', 'finger', 'finish', 'fire', 'first', 'fish', 'fit', 'fitfam', 'fitnessaddict', 'five', 'fix', 'fl', 'flag', 'flagday', 'flash', 'flat', 'fli', 'flight', 'flip', 'floor', 'florida', 'flourish', 'flow', 'flower', 'fml', 'fo', 'focu', 'focus', 'folk', 'follow', 'followm', 'food', 'foodi', 'foodporn', 'fool', 'foot', 'footbal', 'forc', 'forecast', 'forest', 'forev', 'forex', 'forget', 'forgiv', 'forgot', 'forgotten', 'form', 'former', 'forward', 'fought', 'found', 'four', 'fox', 'fr', 'franc', 'frank', 'fraud', 'freak', 'free', 'freedom', 'french', 'fresh', 'fri', 'friday', 'fridayfeel', 'friend', 'friendli', 'friendship', 'friyay', 'frm', 'frog', 'front', 'fruit', 'frustrat', 'ft', 'fuck', 'fuher', 'full', 'fulli', 'fun', 'fund', 'funday', 'fundrais', 'funer', 'funni', 'funtim', 'furnitur', 'futur', 'ga', 'gabba', 'gain', 'galib', 'galleri', 'game', 'gamedev', 'gameofthron', 'gamer', 'gang', 'garden', 'gator', 'gave', 'gay', 'gayboy', 'gb', 'gbp', 'gear', 'geek', 'gel', 'gemini', 'gender', 'gener', 'genocid', 'genuin', 'georg', 'germani', 'get', 'gewitt', 'gf', 'ghost', 'giant', 'gif', 'gift', 'gig', 'gin', 'giphi', 'girl', 'girlfriend', 'give', 'giveaway', 'given', 'glad', 'glasgow', 'glass', 'glastonburi', 'glitter', 'global', 'glow', 'go', 'goal', 'god', 'goe', 'gold', 'golden', 'golf', 'gone', 'gonna', 'good', 'goodby', 'goodday', 'goodi', 'goodlif', 'goodluck', 'goodmood', 'goodmorn', 'goodnight', 'goodread', 'goodtim', 'goodvib', 'googl', 'gop', 'gorgeou', 'gorilla', 'got', 'gotta', 'gotten', 'gov', 'govern', 'govt', 'gr', 'grab', 'grace', 'grad', 'grade', 'graduat', 'grand', 'grandma', 'grandmoth', 'grandpa', 'grant', 'grass', 'grate', 'gratitud', 'grave', 'great', 'greatest', 'greec', 'greed', 'green', 'greet', 'grey', 'grimmi', 'grind', 'groom', 'ground', 'group', 'grow', 'growth', 'grumpi', 'gt', 'guess', 'guest', 'guid', 'guidanc', 'guitar', 'gun', 'gut', 'guy', 'gym', 'ha', 'habit', 'hack', 'haha', 'hahaha', 'hair', 'haircut', 'hairdress', 'half', 'hall', 'hamilton', 'hand', 'handl', 'handmad', 'handsom', 'hang', 'happ', 'happen', 'happi', 'happier', 'happiest', 'harass', 'hard', 'hardcor', 'hardli', 'harm', 'harmoni', 'harri', 'hashtag', 'hat', 'hate', 'hater', 'hathaway', 'hatr', 'hawaii', 'hbd', 'hea', 'heabreak', 'heabroken', 'head', 'headlin', 'heal', 'health', 'healthi', 'hear', 'heard', 'heat', 'heaven', 'held', 'hell', 'hello', 'help', 'herbal', 'herbalremedi', 'heritag', 'hero', 'hey', 'hi', 'hide', 'high', 'higher', 'highest', 'highli', 'highlight', 'hike', 'hilari', 'hill', 'hillari', 'hip', 'hiphop', 'hippi', 'hire', 'hispan', 'histor', 'histori', 'hit', 'hockey', 'hoe', 'hold', 'hole', 'holi', 'holiday', 'hollywood', 'home', 'homemad', 'homophob', 'homophobia', 'honest', 'honestli', 'honey', 'honor', 'hood', 'hook', 'hope', 'horni', 'horribl', 'horrif', 'horror', 'hors', 'hospit', 'host', 'hot', 'hotel', 'hour', 'hous', 'houston', 'hr', 'hrc', 'ht', 'htt', 'hu', 'hubbi', 'hug', 'huge', 'huh', 'human', 'humbl', 'humor', 'hump', 'humpday', 'hungri', 'husband', 'hv', 'hype', 'hypocrit', 'ibiza', 'ice', 'icecream', 'icon', 'id', 'idea', 'ideal', 'ideolog', 'idiot', 'idk', 'idol', 'idwp', 'ig', 'iger', 'ignor', 'ill', 'illeg', 'illustr', 'ilovey', 'im', 'imag', 'imagin', 'immigr', 'impact', 'impoant', 'impress', 'improv', 'in', 'inc', 'incid', 'includ', 'increas', 'incred', 'inde', 'independ', 'index', 'indi', 'india', 'indian', 'indiedev', 'indiegamedev', 'indigen', 'industri', 'inequ', 'infinit', 'info', 'infograph', 'inform', 'ing', 'injur', 'ink', 'inlov', 'innoc', 'innov', 'insan', 'inshot', 'insid', 'insight', 'inspir', 'instacool', 'instadaili', 'instagay', 'instagood', 'instagram', 'instahappi', 'instal', 'instalik', 'instamo', 'instamood', 'instap', 'instas', 'instead', 'insult', 'insur', 'int', 'integr', 'intellig', 'interest', 'intern', 'internet', 'interview', 'intoler', 'introduc', 'invest', 'invit', 'involv', 'io', 'iphon', 'iqbal', 'ireland', 'irish', 'irl', 'iron', 'isi', 'islam', 'islamophobia', 'island', 'israel', 'issu', 'istanbul', 'it', 'itali', 'italian', 'item', 'ive', 'jackson', 'jam', 'jame', 'jan', 'januari', 'japan', 'japanes', 'jealou', 'jerri', 'jersey', 'jesu', 'jew', 'jewelleri', 'jewelri', 'jewish', 'ji', 'jim', 'jimmi', 'jo', 'job', 'jobsearch', 'jocox', 'joe', 'john', 'johnni', 'join', 'joke', 'journal', 'journey', 'joy', 'joytrain', 'jpi', 'judg', 'juic', 'juli', 'jump', 'june', 'junior', 'justic', 'ka', 'karen', 'keep', 'kejriw', 'keshi', 'kevin', 'key', 'ki', 'kick', 'kid', 'kill', 'killer', 'kind', 'kinda', 'king', 'kingdom', 'kinki', 'kiss', 'kit', 'kitchen', 'kitten', 'kitti', 'kkk', 'km', 'knew', 'knock', 'know', 'knowledg', 'known', 'korea', 'kpop', 'la', 'label', 'lack', 'lad', 'ladi', 'lake', 'land', 'landscap', 'languag', 'laptop', 'larg', 'last', 'lasvega', 'late', 'latepost', 'later', 'latest', 'latina', 'laugh', 'laughter', 'launch', 'law', 'lawofattract', 'lawyer', 'lay', 'lazi', 'lb', 'le', 'lead', 'leader', 'leadership', 'leagu', 'leak', 'leakag', 'lean', 'learn', 'least', 'leather', 'leav', 'lebron', 'led', 'lee', 'leed', 'left', 'leg', 'legal', 'legend', 'leman', 'less', 'lesson', 'let', 'letsgo', 'letter', 'level', 'lgbt', 'lgbtq', 'li', 'liar', 'liber', 'librari', 'libtard', 'lie', 'life', 'lifecoach', 'lifeisgood', 'lifestyl', 'lift', 'light', 'lighttherapi', 'lik', 'like', 'likeforlik', 'lil', 'lili', 'limit', 'line', 'link', 'lion', 'lip', 'lipstick', 'list', 'listen', 'lit', 'liter', 'littl', 'live', 'livelyp', 'liverpool', 'lmao', 'lmfao', 'lo', 'loa', 'load', 'local', 'locat', 'lock', 'log', 'logic', 'login', 'logo', 'lol', 'london', 'lone', 'long', 'longer', 'longhair', 'look', 'looki', 'lookin', 'loos', 'lord', 'losangel', 'lose', 'loser', 'loss', 'lost', 'lot', 'loud', 'loung', 'lov', 'love', 'loveh', 'loveisland', 'loveislov', 'loveit', 'lovelif', 'lovemylif', 'lover', 'lovey', 'loveyourself', 'lovinglif', 'low', 'lt', 'luck', 'lucki', 'lunch', 'lush', 'luv', 'luxuri', 'lyon', 'lyric', 'mac', 'macbook', 'machin', 'mad', 'made', 'madrid', 'maga', 'magic', 'magnettherapi', 'mail', 'main', 'major', 'make', 'makeup', 'male', 'malevot', 'mall', 'mama', 'man', 'manag', 'manchest', 'manga', 'mani', 'mar', 'marathon', 'mari', 'marijuana', 'marin', 'mark', 'market', 'marri', 'marriag', 'marvel', 'mass', 'massacr', 'massag', 'massiv', 'master', 'masterkeyexperi', 'mat', 'match', 'mate', 'mateen', 'materi', 'materia', 'matt', 'matter', 'matur', 'may', 'mayb', 'mc', 'mcdonald', 'me', 'meal', 'mean', 'meant', 'measur', 'med', 'media', 'medic', 'medit', 'meet', 'melancholi', 'melancholymus', 'melbourn', 'member', 'meme', 'memori', 'men', 'mental', 'mentalhealth', 'mentalil', 'mention', 'mentor', 'menu', 'mess', 'messag', 'messi', 'met', 'metal', 'mexican', 'mexico', 'mi', 'miami', 'michael', 'michel', 'mid', 'middl', 'might', 'mike', 'mil', 'mile', 'militari', 'milk', 'million', 'min', 'mind', 'mindset', 'mine', 'mini', 'minor', 'minut', 'mirror', 'miser', 'misogyni', 'misogynist', 'miss', 'mistak', 'mix', 'mo', 'mobil', 'mod', 'mode', 'model', 'mohsin', 'mom', 'moment', 'mommi', 'mon', 'monday', 'mondaymotiv', 'money', 'monkey', 'monsoon', 'month', 'mood', 'moon', 'more', 'morn', 'moron', 'mother', 'motiv', 'mount', 'mountain', 'mouth', 'move', 'movement', 'movi', 'mp', 'mr', 'msg', 'msnbc', 'mt', 'much', 'multipl', 'mum', 'murder', 'music', 'musictherapi', 'musicvideo', 'muslim', 'must', 'mylif', 'mylov', 'na', 'nail', 'nake', 'namast', 'name', 'nap', 'nashvil', 'nasti', 'nation', 'nationalbestfriendsday', 'nationalist', 'natur', 'naughti', 'navi', 'nazi', 'nba', 'nbafin', 'nd', 'near', 'nearli', 'necklac', 'need', 'neg', 'neighbor', 'neighborhood', 'nephew', 'nerd', 'nervou', 'ness', 'netflix', 'network', 'never', 'neverump', 'new', 'newcastl', 'newmus', 'news', 'newyear', 'newyork', 'next', 'ng', 'ni', 'nice', 'niec', 'nigeria', 'nigga', 'nigger', 'night', 'nightclub', 'nightmar', 'nightout', 'nike', 'nite', 'no', 'nobodi', 'nofilt', 'noh', 'nomine', 'nomnom', 'non', 'none', 'nonsens', 'noon', 'normal', 'nose', 'not', 'note', 'noth', 'notic', 'notmypresid', 'novemb', 'now', 'nowaday', 'nowplay', 'np', 'nude', 'numb', 'number', 'nurs', 'nurseri', 'nut', 'nutrit', 'ny', 'nyc', 'nzd', 'oakland', 'obama', 'obsess', 'obvious', 'occur', 'ocean', 'odd', 'offer', 'offic', 'offici', 'often', 'oh', 'oil', 'oitnb', 'ok', 'okay', 'old', 'omg', 'one', 'onlin', 'oop', 'ootd', 'open', 'oper', 'opinion', 'opposit', 'oppoun', 'oppress', 'oprah', 'optimist', 'option', 'orang', 'orangeisthenewblack', 'order', 'organ', 'organis', 'orient', 'origin', 'orlando', 'orlandonightclubshoot', 'orlandoshoot', 'oscar', 'other', 'out', 'outdoor', 'outfit', 'outrag', 'outsid', 'oven', 'overwhelm', 'owl', 'owner', 'pa', 'pac', 'pack', 'packag', 'page', 'pageant', 'pai', 'paicip', 'paid', 'pain', 'paint', 'pair', 'pakistan', 'paladino', 'pamper', 'paner', 'pant', 'papa', 'paper', 'paradis', 'parent', 'pari', 'park', 'pass', 'passion', 'past', 'path', 'pathet', 'patient', 'paul', 'pay', 'payday', 'pc', 'peac', 'peak', 'peek', 'peep', 'pen', 'peopl', 'peppa', 'per', 'perfect', 'perform', 'perhap', 'period', 'periscop', 'person', 'personalis', 'pet', 'pharrel', 'phase', 'philippin', 'phone', 'photo', 'photograph', 'photographi', 'photooftheday', 'photoshoot', 'piano', 'pic', 'pick', 'picoftheday', 'pictur', 'piec', 'pig', 'piggi', 'pin', 'pink', 'piss', 'pitch', 'pizza', 'pl', 'place', 'placement', 'plan', 'plane', 'planet', 'plant', 'plate', 'play', 'player', 'playlist', 'pleas', 'pleasur', 'plenti', 'plu', 'plz', 'pm', 'po', 'podcast', 'poem', 'poetri', 'point', 'poland', 'polar', 'polaris', 'polic', 'polici', 'polishgirl', 'polit', 'politician', 'poll', 'pool', 'poor', 'pop', 'popular', 'porait', 'porn', 'pose', 'posit', 'positivevib', 'possibl', 'post', 'poster', 'potato', 'potenti', 'potu', 'pougal', 'pound', 'povey', 'power', 'ppl', 'pr', 'practic', 'prais', 'pray', 'prayer', 'prayersfororlando', 'prayfororlando', 'pre', 'preciou', 'prefer', 'pregnanc', 'pregnant', 'premier', 'premium', 'preorder', 'prep', 'prepar', 'present', 'presid', 'presidenti', 'press', 'pressur', 'pretend', 'pretti', 'prevent', 'preview', 'previou', 'price', 'priceless', 'pride', 'primari', 'prime', 'princ', 'princess', 'print', 'prison', 'privat', 'prize', 'pro', 'probabl', 'problem', 'process', 'produc', 'product', 'profession', 'profil', 'program', 'progress', 'project', 'prom', 'promis', 'promot', 'proof', 'propaganda', 'protect', 'protest', 'proud', 'prove', 'proverb', 'provid', 'ps', 'psycholog', 'pub', 'public', 'publish', 'pull', 'puls', 'pulsenightclub', 'pulseshoot', 'pump', 'punish', 'punjab', 'punjabi', 'puntohost', 'pup', 'puppi', 'purchas', 'pure', 'purpos', 'push', 'pussi', 'put', 'putin', 'putinschoic', 'qualiti', 'queen', 'question', 'quick', 'quickli', 'quiet', 'quit', 'quiz', 'quot', 'quoteoftheday', 'quotestag', 'race', 'racial', 'racism', 'racist', 'radic', 'radio', 'rage', 'raghuramrajan', 'rain', 'rainbow', 'raini', 'rais', 'ralli', 'ramadan', 'ramadhan', 'ran', 'random', 'rang', 'rant', 'rap', 'rape', 'rapist', 'rare', 'rat', 'rate', 'rather', 'ration', 'raw', 'rd', 'reach', 'react', 'reaction', 'read', 'readi', 'real', 'realis', 'realiti', 'realiz', 'realli', 'reason', 'receiv', 'recent', 'recip', 'recogn', 'record', 'recov', 'recoveri', 'red', 'ref', 'referendum', 'reflect', 'refuge', 'refus', 'regard', 'regist', 'regrann', 'regret', 'rehears', 'reject', 'rel', 'relat', 'relationship', 'relax', 'releas', 'relev', 'religion', 'remain', 'remark', 'remedi', 'rememb', 'remind', 'remix', 'remov', 'renew', 'rep', 'repeat', 'replac', 'repli', 'repo', 'repoer', 'repost', 'repres', 'republican', 'request', 'requir', 'research', 'resign', 'resist', 'reso', 'resourc', 'respect', 'respond', 'respons', 'rest', 'restaur', 'result', 'retail', 'retir', 'retro', 'return', 'retweet', 'reunion', 'reunit', 'reveal', 'revers', 'review', 'revolut', 'reward', 'rhetor', 'rhyme', 'rich', 'rid', 'ride', 'ridicul', 'rifl', 'right', 'ring', 'rip', 'ripchristina', 'ripchristinagrimmi', 'rise', 'risk', 'river', 'rn', 'road', 'roadtrip', 'robe', 'rock', 'role', 'roll', 'romanc', 'romant', 'rome', 'roof', 'room', 'rooster', 'root', 'rose', 'rough', 'round', 'rout', 'routin', 'row', 'royal', 'rss', 'rude', 'rugbi', 'ruin', 'rule', 'run', 'runner', 'russia', 'russian', 'sa', 'sad', 'sadden', 'saddest', 'sadli', 'safe', 'safeti', 'said', 'sake', 'salad', 'sale', 'salut', 'sam', 'sampl', 'san', 'sand', 'sandi', 'santa', 'sat', 'satisfi', 'saturday', 'sauc', 'save', 'saw', 'say', 'saysometh', 'scare', 'scari', 'scene', 'schedul', 'school', 'schwandorfchwandorf', 'scienc', 'score', 'scotland', 'scott', 'scream', 'screen', 'screw', 'script', 'scum', 'sday', 'se', 'sea', 'seal', 'search', 'seashepherd', 'seasid', 'season', 'seat', 'second', 'secret', 'secur', 'see', 'seek', 'seem', 'seen', 'select', 'self', 'selfi', 'selfish', 'selflov', 'sell', 'semi', 'semit', 'senat', 'send', 'senior', 'sens', 'senseless', 'sent', 'sentenc', 'sept', 'septemb', 'seri', 'seriou', 'serious', 'serv', 'servic', 'session', 'set', 'seven', 'sex', 'sexi', 'sexist', 'sexual', 'shade', 'shadow', 'shairi', 'shake', 'shall', 'shame', 'shape', 'share', 'shark', 'shave', 'shepherd', 'shi', 'shift', 'shine', 'ship', 'shit', 'sho', 'shock', 'shoe', 'shoot', 'shooter', 'shop', 'shot', 'shout', 'shoutout', 'show', 'showcas', 'shower', 'shut', 'si', 'sick', 'side', 'sigh', 'sight', 'sign', 'sikh', 'silenc', 'silent', 'silli', 'silver', 'simpl', 'simpli', 'simul', 'sinc', 'sing', 'singapor', 'singer', 'singl', 'sir', 'sirf', 'sister', 'sit', 'site', 'situat', 'six', 'size', 'sjw', 'skate', 'sketch', 'ski', 'skill', 'skin', 'skincar', 'sky', 'sleep', 'sleepi', 'slide', 'slow', 'slowli', 'slut', 'sm', 'sma', 'small', 'smash', 'smell', 'smh', 'smile', 'smiley', 'smith', 'smoke', 'smoothi', 'snack', 'snap', 'snapchat', 'snapshot', 'sneak', 'snow', 'so', 'soccer', 'social', 'socialmedia', 'societi', 'sock', 'soft', 'sohappi', 'sold', 'solut', 'solv', 'somebodi', 'somehow', 'someon', 'someth', 'sometim', 'somewher', 'son', 'song', 'soo', 'soon', 'sorri', 'soul', 'soulmat', 'sound', 'soundcloud', 'sourc', 'south', 'southafrica', 'spa', 'space', 'spain', 'spark', 'sparkl', 'speak', 'speaker', 'special', 'speech', 'speed', 'spend', 'spent', 'spin', 'spirit', 'spiritu', 'spo', 'spoil', 'sponsor', 'spot', 'spread', 'spring', 'squad', 'ss', 'st', 'sta', 'stadium', 'staer', 'staff', 'stage', 'stand', 'standard', 'star', 'starbuck', 'stark', 'starwar', 'state', 'statement', 'station', 'staup', 'stay', 'steak', 'steal', 'step', 'steph', 'stephen', 'stereotyp', 'stick', 'still', 'stock', 'stoke', 'stomp', 'stone', 'stop', 'store', 'stori', 'storm', 'straight', 'strang', 'stranger', 'strawberri', 'stream', 'street', 'strength', 'stress', 'strip', 'strong', 'stronger', 'struggl', 'stuck', 'student', 'studi', 'studio', 'stuff', 'stun', 'stupid', 'style', 'sub', 'success', 'suck', 'suffer', 'suicid', 'suit', 'sukhbir', 'sum', 'summeim', 'summer', 'summit', 'sun', 'sunday', 'sundayfunday', 'sundaymorn', 'sunglass', 'sunni', 'sunnyday', 'sunris', 'sunset', 'sunshin', 'super', 'superhero', 'suppo', 'suppoer', 'suppos', 'sure', 'surpris', 'surround', 'surviv', 'sushi', 'suspect', 'suspend', 'swag', 'sway', 'swear', 'sweat', 'sweden', 'sweet', 'sweeti', 'swim', 'swing', 'sydney', 'system', 'tabl', 'tag', 'tagsforlik', 'take', 'taken', 'tale', 'talent', 'talk', 'tampa', 'tan', 'tank', 'target', 'task', 'tast', 'tattoo', 'taught', 'tax', 'tb', 'tbt', 'tcot', 'tea', 'teach', 'teacher', 'team', 'teambt', 'teamsuperjunior', 'tear', 'teaser', 'tech', 'technolog', 'teen', 'teenag', 'teeth', 'tell', 'templ', 'ten', 'tenni', 'term', 'terribl', 'terror', 'terrorist', 'test', 'texa', 'text', 'tgif', 'th', 'thailand', 'thank', 'thankyou', 'that', 'the', 'theater', 'theatr', 'theconjur', 'theme', 'therapi', 'theresist', 'thi', 'thing', 'think', 'thinkbigsundaywithmarsha', 'third', 'tho', 'though', 'thought', 'thousand', 'threaten', 'three', 'thrill', 'thrive', 'throw', 'throwback', 'thru', 'thug', 'thursday', 'thursdaythought', 'thx', 'ti', 'tick', 'ticket', 'tie', 'til', 'till', 'time', 'tini', 'tip', 'tire', 'titl', 'to', 'today', 'toddler', 'togeth', 'tokyo', 'told', 'toler', 'tom', 'tomorrow', 'toni', 'tonight', 'tonyaward', 'took', 'tool', 'top', 'topic', 'toptag', 'toronto', 'total', 'touch', 'tough', 'tour', 'toward', 'town', 'toy', 'track', 'trade', 'tradit', 'traffic', 'tragedi', 'tragic', 'trail', 'trailer', 'train', 'traitor', 'transform', 'transit', 'trap', 'trash', 'travel', 'treason', 'treasur', 'treat', 'treatment', 'tree', 'trend', 'tri', 'trial', 'tribut', 'trigger', 'trip', 'troll', 'troubl', 'truck', 'true', 'truli', 'trump', 'trust', 'truth', 'tshi', 'tuesday', 'tumblr', 'tummi', 'tune', 'tupac', 'turkey', 'turn', 'tv', 'tweet', 'twice', 'twin', 'twitch', 'twitter', 'two', 'ty', 'type', 'typic', 'udtapunjab', 'ugh', 'ugli', 'uk', 'ukhx', 'ukrain', 'un', 'unbeliev', 'uncl', 'understand', 'unforgett', 'unfoun', 'unhappi', 'uni', 'union', 'unit', 'univers', 'unleash', 'unleashyourjoy', 'unless', 'up', 'upbeat', 'upcom', 'updat', 'upgrad', 'upload', 'upon', 'upset', 'ur', 'urdu', 'us', 'usa', 'usd', 'use', 'uselect', 'useless', 'user', 'usual', 'vacat', 'valley', 'valu', 'vandalis', 'vanilla', 'vast', 'vega', 'vegan', 'vehicl', 'vendor', 'venu', 'venusexchang', 'veri', 'version', 'via', 'vibe', 'vicin', 'victim', 'victori', 'vid', 'video', 'view', 'villag', 'vine', 'vintag', 'vinyl', 'violenc', 'violent', 'vip', 'viral', 'visit', 'vk', 'vlicob', 'vlog', 'voic', 'volunt', 'vote', 'voter', 'vs', 'vsco', 'vscocam', 'wa', 'wait', 'wake', 'wakeup', 'wale', 'walk', 'wall', 'wanna', 'want', 'war', 'warm', 'warn', 'warnung', 'warrior', 'wash', 'wasi', 'wast', 'watch', 'water', 'wattpad', 'wave', 'way', 'wd', 'we', 'weak', 'weapon', 'wear', 'weather', 'web', 'webcam', 'websit', 'wed', 'weddingplan', 'wednesday', 'wednesdaywisdom', 'wee', 'weed', 'week', 'weekend', 'weigh', 'weight', 'weightloss', 'weird', 'welcom', 'well', 'wellb', 'wembley', 'went', 'west', 'western', 'wet', 'wetter', 'wetterwarnung', 'wh', 'what', 'whatev', 'whe', 'wheel', 'when', 'whenev', 'whi', 'whilst', 'whiski', 'white', 'whoever', 'whole', 'whoop', 'wife', 'wild', 'will', 'william', 'wimbledon', 'win', 'window', 'wine', 'wing', 'winner', 'winter', 'wisdom', 'wise', 'wish', 'wit', 'with', 'within', 'without', 'wo', 'woh', 'woke', 'woman', 'women', 'wonder', 'wont', 'woo', 'wood', 'woohoo', 'woot', 'word', 'work', 'worker', 'workout', 'workshop', 'world', 'worldoceansday', 'worldwid', 'worri', 'wors', 'worship', 'worst', 'would', 'wow', 'wrap', 'write', 'writer', 'written', 'wrong', 'wrote', 'wso', 'wtf', 'wwdc', 'wwe', 'xbox', 'xboxon', 'xd', 'xenophobia', 'xoxo', 'xx', 'xxx', 'ya', 'yall', 'yay', 'ye', 'yea', 'yeah', 'year', 'yelchin', 'yellow', 'yep', 'yesterday', 'yet', 'yo', 'yoga', 'yolo', 'york', 'you', 'young', 'your', 'youth', 'youtub', 'yoy', 'yr', 'yum', 'yummi', 'yup', 'yyc', 'zelda', 'zen', 'zero', 'zone']\n"
     ]
    }
   ],
   "source": [
    "print(cv.get_feature_names())"
   ]
  },
  {
   "cell_type": "code",
   "execution_count": 19,
   "metadata": {},
   "outputs": [],
   "source": [
    "from sklearn.model_selection import train_test_split"
   ]
  },
  {
   "cell_type": "code",
   "execution_count": 20,
   "metadata": {},
   "outputs": [],
   "source": [
    "X_train, X_test, y_train, y_test = train_test_split(X, y)"
   ]
  },
  {
   "cell_type": "code",
   "execution_count": 21,
   "metadata": {},
   "outputs": [],
   "source": [
    "from sklearn.linear_model import LogisticRegression"
   ]
  },
  {
   "cell_type": "code",
   "execution_count": 22,
   "metadata": {},
   "outputs": [],
   "source": [
    "log_reg = LogisticRegression()"
   ]
  },
  {
   "cell_type": "code",
   "execution_count": 23,
   "metadata": {},
   "outputs": [
    {
     "name": "stderr",
     "output_type": "stream",
     "text": [
      "/anaconda3/lib/python3.7/site-packages/sklearn/linear_model/logistic.py:433: FutureWarning: Default solver will be changed to 'lbfgs' in 0.22. Specify a solver to silence this warning.\n",
      "  FutureWarning)\n"
     ]
    },
    {
     "data": {
      "text/plain": [
       "LogisticRegression(C=1.0, class_weight=None, dual=False, fit_intercept=True,\n",
       "          intercept_scaling=1, max_iter=100, multi_class='warn',\n",
       "          n_jobs=None, penalty='l2', random_state=None, solver='warn',\n",
       "          tol=0.0001, verbose=0, warm_start=False)"
      ]
     },
     "execution_count": 23,
     "metadata": {},
     "output_type": "execute_result"
    }
   ],
   "source": [
    "log_reg.fit(X_train, y_train)"
   ]
  },
  {
   "cell_type": "code",
   "execution_count": 24,
   "metadata": {},
   "outputs": [
    {
     "data": {
      "text/plain": [
       "KNeighborsClassifier(algorithm='auto', leaf_size=30, metric='minkowski',\n",
       "           metric_params=None, n_jobs=None, n_neighbors=5, p=2,\n",
       "           weights='uniform')"
      ]
     },
     "execution_count": 24,
     "metadata": {},
     "output_type": "execute_result"
    }
   ],
   "source": [
    "from sklearn.neighbors import KNeighborsClassifier\n",
    "knn = KNeighborsClassifier()\n",
    "knn.fit(X_train, y_train)"
   ]
  },
  {
   "cell_type": "code",
   "execution_count": 25,
   "metadata": {},
   "outputs": [],
   "source": [
    "# from sklearn.tree import DecisionTreeClassifier\n",
    "# dtc = DecisionTreeClassifier()\n",
    "# dtc.fit(X_train, y_train)"
   ]
  },
  {
   "cell_type": "code",
   "execution_count": null,
   "metadata": {},
   "outputs": [
    {
     "name": "stderr",
     "output_type": "stream",
     "text": [
      "/anaconda3/lib/python3.7/site-packages/sklearn/svm/base.py:196: FutureWarning: The default value of gamma will change from 'auto' to 'scale' in version 0.22 to account better for unscaled features. Set gamma explicitly to 'auto' or 'scale' to avoid this warning.\n",
      "  \"avoid this warning.\", FutureWarning)\n"
     ]
    }
   ],
   "source": [
    "from sklearn.svm import SVC\n",
    "svm = SVC()\n",
    "svm.fit(X_train, y_train)"
   ]
  },
  {
   "cell_type": "code",
   "execution_count": null,
   "metadata": {},
   "outputs": [],
   "source": [
    "from sklearn.naive_bayes import GaussianNB"
   ]
  },
  {
   "cell_type": "code",
   "execution_count": null,
   "metadata": {},
   "outputs": [],
   "source": [
    "nb = GaussianNB()\n",
    "nb.fit(X_train, y_train)"
   ]
  },
  {
   "cell_type": "code",
   "execution_count": null,
   "metadata": {},
   "outputs": [],
   "source": [
    "log_reg.score(X_train, y_train)"
   ]
  },
  {
   "cell_type": "code",
   "execution_count": null,
   "metadata": {},
   "outputs": [],
   "source": [
    "log_reg.score(X_test, y_test)"
   ]
  },
  {
   "cell_type": "code",
   "execution_count": null,
   "metadata": {},
   "outputs": [],
   "source": [
    "# knn.score(X_train, y_train)"
   ]
  },
  {
   "cell_type": "code",
   "execution_count": 1,
   "metadata": {},
   "outputs": [
    {
     "ename": "NameError",
     "evalue": "name 'knn' is not defined",
     "output_type": "error",
     "traceback": [
      "\u001b[0;31m---------------------------------------------------------------------------\u001b[0m",
      "\u001b[0;31mNameError\u001b[0m                                 Traceback (most recent call last)",
      "\u001b[0;32m<ipython-input-1-5c888e60d86d>\u001b[0m in \u001b[0;36m<module>\u001b[0;34m\u001b[0m\n\u001b[0;32m----> 1\u001b[0;31m \u001b[0mknn\u001b[0m\u001b[0;34m.\u001b[0m\u001b[0mscore\u001b[0m\u001b[0;34m(\u001b[0m\u001b[0mX_test\u001b[0m\u001b[0;34m,\u001b[0m \u001b[0my_test\u001b[0m\u001b[0;34m)\u001b[0m\u001b[0;34m\u001b[0m\u001b[0;34m\u001b[0m\u001b[0m\n\u001b[0m",
      "\u001b[0;31mNameError\u001b[0m: name 'knn' is not defined"
     ]
    }
   ],
   "source": [
    "# knn.score(X_test, y_test)"
   ]
  },
  {
   "cell_type": "code",
   "execution_count": null,
   "metadata": {},
   "outputs": [],
   "source": []
  }
 ],
 "metadata": {
  "kernelspec": {
   "display_name": "Python 3",
   "language": "python",
   "name": "python3"
  }
 },
 "nbformat": 4,
 "nbformat_minor": 2
}
