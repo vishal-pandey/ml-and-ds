{
 "cells": [
  {
   "cell_type": "markdown",
   "metadata": {},
   "source": [
    "# GUI Prograpping\n",
    "\n",
    "- Normal programming is sequential / linear programming\n",
    "- GUI Programming is the event based programming\n",
    "- Event -> any action performed or happened"
   ]
  },
  {
   "cell_type": "markdown",
   "metadata": {},
   "source": [
    " ## Events\n",
    " - Right click\n",
    " - Double click\n",
    " - triple click"
   ]
  },
  {
   "cell_type": "markdown",
   "metadata": {},
   "source": [
    "## Framework\n",
    "- TKinter (Tool kit Interface)\n",
    "- TCL/Tk (Tool Command Language / Tool Kit) (Operation system's default interface)"
   ]
  },
  {
   "cell_type": "markdown",
   "metadata": {},
   "source": [
    "## Widgets\n",
    "- label widget\n",
    "- Entry widget\n",
    "- button widget\n",
    "- widget classes are present in the tkinter"
   ]
  },
  {
   "cell_type": "markdown",
   "metadata": {},
   "source": [
    "## Geometry and layout\n",
    "1. pack()\n",
    "    - placed at center top (By default)\n",
    "    - pack(side=\"left\") # left, right, top, bottom, by default side is top\n",
    "2. place()\n",
    "    - pass location in pixels\n",
    "    - place(x=0, y=0)\n",
    "3. grid()\n",
    "    - grid(row=0, column=0)\n",
    "    - divide screen in rows and columns according to number of widgets"
   ]
  },
  {
   "cell_type": "markdown",
   "metadata": {},
   "source": [
    "## Handlers\n",
    "- handlers are function that listen to the event and executed when event are happened\n",
    "- handlers in buttons are defined using the command argument"
   ]
  },
  {
   "cell_type": "code",
   "execution_count": 3,
   "metadata": {},
   "outputs": [],
   "source": []
  },
  {
   "cell_type": "code",
   "execution_count": null,
   "metadata": {},
   "outputs": [],
   "source": []
  },
  {
   "cell_type": "code",
   "execution_count": null,
   "metadata": {},
   "outputs": [],
   "source": []
  },
  {
   "cell_type": "code",
   "execution_count": null,
   "metadata": {},
   "outputs": [],
   "source": []
  }
 ],
 "metadata": {
  "kernelspec": {
   "display_name": "Python 3",
   "language": "python",
   "name": "python3"
  },
  "language_info": {
   "codemirror_mode": {
    "name": "ipython",
    "version": 3
   },
   "file_extension": ".py",
   "mimetype": "text/x-python",
   "name": "python",
   "nbconvert_exporter": "python",
   "pygments_lexer": "ipython3",
   "version": "3.7.1"
  }
 },
 "nbformat": 4,
 "nbformat_minor": 2
}
